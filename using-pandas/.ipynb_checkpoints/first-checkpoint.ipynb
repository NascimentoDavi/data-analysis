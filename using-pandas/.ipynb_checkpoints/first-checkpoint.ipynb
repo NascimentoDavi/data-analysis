{
 "cells": [
  {
   "cell_type": "code",
   "execution_count": 2,
   "id": "c709fabe-731b-4f35-a497-a101b355aadb",
   "metadata": {},
   "outputs": [
    {
     "name": "stdout",
     "output_type": "stream",
     "text": [
      "Jesus is alive\n"
     ]
    }
   ],
   "source": [
    "print(\"Jesus is alive\")"
   ]
  },
  {
   "cell_type": "markdown",
   "id": "c6388e09-052a-451b-aec8-3224fe52973c",
   "metadata": {},
   "source": [
    "# Lista de Exercícios Numpy - Howard"
   ]
  },
  {
   "cell_type": "markdown",
   "id": "5dcd5b6c-7e3e-4b16-8857-7a4123fb8145",
   "metadata": {},
   "source": [
    "## Criação de ndarrays"
   ]
  },
  {
   "cell_type": "markdown",
   "id": "613c3273-57dc-4fe5-bad5-3c6d90a5a56c",
   "metadata": {},
   "source": [
    "- Crie um array NumPy com os números de 1 a 10.\n",
    "\n",
    "- Crie um array de zeros com tamanho 5 e um array de uns com tamanho 5.\n",
    "\n",
    "- Crie um array com valores igualmente espaçados entre 0 e 20, com um passo de 2.\n",
    "\n",
    "- Crie uma matriz (3 x 3) com valores aleatórios entre 0 e 1.\n",
    "\n",
    "- Gere uma matriz identidade de ordem 4.\n",
    "\n",
    "- Crie um array contendo 10 números aleatórios inteiros entre 50 e 100.\n",
    "\n"
   ]
  },
  {
   "cell_type": "code",
   "execution_count": 20,
   "id": "3e073f70-f02b-4c51-86b1-8533f9e3e440",
   "metadata": {},
   "outputs": [],
   "source": [
    "import numpy as np"
   ]
  },
  {
   "cell_type": "code",
   "execution_count": 30,
   "id": "55a7174f-c159-42a6-9be4-80fdcb6b9f1d",
   "metadata": {},
   "outputs": [],
   "source": [
    "arr = np.arange(1, 11)"
   ]
  },
  {
   "cell_type": "code",
   "execution_count": 31,
   "id": "9bb37312-ada8-4783-a6e5-0b8dd09fec06",
   "metadata": {},
   "outputs": [
    {
     "name": "stdout",
     "output_type": "stream",
     "text": [
      "[ 1  2  3  4  5  6  7  8  9 10]\n"
     ]
    }
   ],
   "source": [
    "print(arr)"
   ]
  },
  {
   "cell_type": "code",
   "execution_count": 34,
   "id": "8c985bac-d2bc-443c-8528-d5e11667d5d8",
   "metadata": {},
   "outputs": [],
   "source": [
    "zeros_arr = np.zeros(5)\n",
    "ones_arr = np.ones(5)"
   ]
  },
  {
   "cell_type": "code",
   "execution_count": 35,
   "id": "e10ce936-db15-4c71-93af-8a036002759f",
   "metadata": {},
   "outputs": [
    {
     "name": "stdout",
     "output_type": "stream",
     "text": [
      "[0. 0. 0. 0. 0.] [1. 1. 1. 1. 1.]\n"
     ]
    }
   ],
   "source": [
    "print(zeros_arr, ones_arr)"
   ]
  },
  {
   "cell_type": "markdown",
   "id": "e0d168df-fe6d-4425-bde3-575de371f4a1",
   "metadata": {},
   "source": [
    "arr_step = np.arange(0, 21, 2)"
   ]
  },
  {
   "cell_type": "code",
   "execution_count": 38,
   "id": "68033167-e41e-46b3-996a-38dea6fc2181",
   "metadata": {},
   "outputs": [
    {
     "name": "stdout",
     "output_type": "stream",
     "text": [
      "[ 0  2  4  6  8 10 12 14 16 18 20]\n"
     ]
    }
   ],
   "source": [
    "print(arr)"
   ]
  },
  {
   "cell_type": "code",
   "execution_count": 41,
   "id": "06f8b835-ae04-4a58-bac0-475e34f8b6e5",
   "metadata": {},
   "outputs": [
    {
     "name": "stdout",
     "output_type": "stream",
     "text": [
      "[[0.23687767 0.34380236 0.70301048]\n",
      " [0.02400301 0.13681964 0.75011937]\n",
      " [0.3327964  0.87101912 0.59272469]]\n"
     ]
    }
   ],
   "source": [
    "random_matrix = np.random.rand(3, 3)\n",
    "print(random_matrix)"
   ]
  },
  {
   "cell_type": "code",
   "execution_count": 45,
   "id": "a367c6a5-9b25-4498-a31a-aef7ed1144ca",
   "metadata": {},
   "outputs": [],
   "source": [
    "identity_matrix = np.eye(4)"
   ]
  },
  {
   "cell_type": "code",
   "execution_count": 46,
   "id": "d1d236cd-3fa7-4844-bd36-c897cad106b3",
   "metadata": {},
   "outputs": [
    {
     "name": "stdout",
     "output_type": "stream",
     "text": [
      "[[1. 0. 0. 0.]\n",
      " [0. 1. 0. 0.]\n",
      " [0. 0. 1. 0.]\n",
      " [0. 0. 0. 1.]]\n"
     ]
    }
   ],
   "source": [
    "print(identity_matrix)"
   ]
  },
  {
   "cell_type": "code",
   "execution_count": 47,
   "id": "3c3bdbc3-3a11-44f3-8bb2-18edb4430533",
   "metadata": {},
   "outputs": [],
   "source": [
    "random_integers = np.random.randint(50, 101, 10)"
   ]
  },
  {
   "cell_type": "code",
   "execution_count": 48,
   "id": "8c70e2be-c756-41be-a82c-5f7be5e39c10",
   "metadata": {},
   "outputs": [
    {
     "name": "stdout",
     "output_type": "stream",
     "text": [
      "[62 84 71 71 65 87 79 92 50 75]\n"
     ]
    }
   ],
   "source": [
    "print(random_integers)"
   ]
  },
  {
   "cell_type": "code",
   "execution_count": null,
   "id": "6cc9bb36-e0e1-402d-834d-014bf5c0ab27",
   "metadata": {},
   "outputs": [],
   "source": []
  }
 ],
 "metadata": {
  "kernelspec": {
   "display_name": "Python 3 (ipykernel)",
   "language": "python",
   "name": "python3"
  },
  "language_info": {
   "codemirror_mode": {
    "name": "ipython",
    "version": 3
   },
   "file_extension": ".py",
   "mimetype": "text/x-python",
   "name": "python",
   "nbconvert_exporter": "python",
   "pygments_lexer": "ipython3",
   "version": "3.12.7"
  }
 },
 "nbformat": 4,
 "nbformat_minor": 5
}
