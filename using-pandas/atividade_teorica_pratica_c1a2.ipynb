{
 "cells": [
  {
   "cell_type": "code",
   "execution_count": 3,
   "id": "9cd060fc-1074-4772-afe1-ccea5e3a3a64",
   "metadata": {},
   "outputs": [],
   "source": [
    "import pandas as pd\n",
    "\n",
    "# Aluno: Davi Rodrigues do Nascimento\n",
    "# Prof.: Howard \n",
    "# Disciplina: Análise de Dados Aplicada a Computação"
   ]
  },
  {
   "cell_type": "markdown",
   "id": "65d42d0e-488e-4d67-81cf-b6d34b1a6606",
   "metadata": {
    "jp-MarkdownHeadingCollapsed": true
   },
   "source": [
    "## 1 - Criação do Dataframe"
   ]
  },
  {
   "cell_type": "code",
   "execution_count": null,
   "id": "097ee036-a37c-4171-84b3-e0c5c9e89862",
   "metadata": {},
   "outputs": [],
   "source": []
  },
  {
   "cell_type": "code",
   "execution_count": 45,
   "id": "864d2292-fe6e-48cf-8b5e-e0fb5f2c3324",
   "metadata": {},
   "outputs": [],
   "source": [
    "dados = {\n",
    "    \"loja\": [\"ShopFast\", \"ElectroStore\", \"FashionTrend\", \"OrganicMart\", \"DigitalWorld\", \"SafeBuy\", \"GameZone\"],\n",
    "    \"http_status\": [\"200\", \"404\", \"200\", \"500\", \"200\", \"403\", \"404\"],\n",
    "    \"response_time\": [0.05, 0.12, 0.07, 0.20, 0.06, 0.09, 0.15],\n",
    "}\n",
    "df = pd.DataFrame(dados)"
   ]
  },
  {
   "cell_type": "code",
   "execution_count": 46,
   "id": "bc0809d9-4b82-4089-b31b-f186f845783c",
   "metadata": {},
   "outputs": [
    {
     "data": {
      "text/html": [
       "<div>\n",
       "<style scoped>\n",
       "    .dataframe tbody tr th:only-of-type {\n",
       "        vertical-align: middle;\n",
       "    }\n",
       "\n",
       "    .dataframe tbody tr th {\n",
       "        vertical-align: top;\n",
       "    }\n",
       "\n",
       "    .dataframe thead th {\n",
       "        text-align: right;\n",
       "    }\n",
       "</style>\n",
       "<table border=\"1\" class=\"dataframe\">\n",
       "  <thead>\n",
       "    <tr style=\"text-align: right;\">\n",
       "      <th></th>\n",
       "      <th>loja</th>\n",
       "      <th>http_status</th>\n",
       "      <th>response_time</th>\n",
       "    </tr>\n",
       "  </thead>\n",
       "  <tbody>\n",
       "    <tr>\n",
       "      <th>0</th>\n",
       "      <td>ShopFast</td>\n",
       "      <td>200</td>\n",
       "      <td>0.05</td>\n",
       "    </tr>\n",
       "    <tr>\n",
       "      <th>1</th>\n",
       "      <td>ElectroStore</td>\n",
       "      <td>404</td>\n",
       "      <td>0.12</td>\n",
       "    </tr>\n",
       "    <tr>\n",
       "      <th>2</th>\n",
       "      <td>FashionTrend</td>\n",
       "      <td>200</td>\n",
       "      <td>0.07</td>\n",
       "    </tr>\n",
       "    <tr>\n",
       "      <th>3</th>\n",
       "      <td>OrganicMart</td>\n",
       "      <td>500</td>\n",
       "      <td>0.20</td>\n",
       "    </tr>\n",
       "    <tr>\n",
       "      <th>4</th>\n",
       "      <td>DigitalWorld</td>\n",
       "      <td>200</td>\n",
       "      <td>0.06</td>\n",
       "    </tr>\n",
       "    <tr>\n",
       "      <th>5</th>\n",
       "      <td>SafeBuy</td>\n",
       "      <td>403</td>\n",
       "      <td>0.09</td>\n",
       "    </tr>\n",
       "    <tr>\n",
       "      <th>6</th>\n",
       "      <td>GameZone</td>\n",
       "      <td>404</td>\n",
       "      <td>0.15</td>\n",
       "    </tr>\n",
       "  </tbody>\n",
       "</table>\n",
       "</div>"
      ],
      "text/plain": [
       "           loja http_status  response_time\n",
       "0      ShopFast         200           0.05\n",
       "1  ElectroStore         404           0.12\n",
       "2  FashionTrend         200           0.07\n",
       "3   OrganicMart         500           0.20\n",
       "4  DigitalWorld         200           0.06\n",
       "5       SafeBuy         403           0.09\n",
       "6      GameZone         404           0.15"
      ]
     },
     "execution_count": 46,
     "metadata": {},
     "output_type": "execute_result"
    }
   ],
   "source": [
    "df"
   ]
  },
  {
   "cell_type": "markdown",
   "id": "88271e9d-4b15-4de2-8e2d-798739be6c31",
   "metadata": {
    "jp-MarkdownHeadingCollapsed": true
   },
   "source": [
    "### (a) Filtrar apenas os sites que retornaram HTTP Status 200"
   ]
  },
  {
   "cell_type": "code",
   "execution_count": 47,
   "id": "0a171d1f-995a-4cb7-b153-8b9cf79586f5",
   "metadata": {},
   "outputs": [],
   "source": [
    "df_200 = df[df[\"http_status\"] == \"200\"]"
   ]
  },
  {
   "cell_type": "code",
   "execution_count": 48,
   "id": "0491565d-c4d3-4591-9466-c402cc36ef58",
   "metadata": {},
   "outputs": [
    {
     "data": {
      "text/html": [
       "<div>\n",
       "<style scoped>\n",
       "    .dataframe tbody tr th:only-of-type {\n",
       "        vertical-align: middle;\n",
       "    }\n",
       "\n",
       "    .dataframe tbody tr th {\n",
       "        vertical-align: top;\n",
       "    }\n",
       "\n",
       "    .dataframe thead th {\n",
       "        text-align: right;\n",
       "    }\n",
       "</style>\n",
       "<table border=\"1\" class=\"dataframe\">\n",
       "  <thead>\n",
       "    <tr style=\"text-align: right;\">\n",
       "      <th></th>\n",
       "      <th>loja</th>\n",
       "      <th>http_status</th>\n",
       "      <th>response_time</th>\n",
       "    </tr>\n",
       "  </thead>\n",
       "  <tbody>\n",
       "    <tr>\n",
       "      <th>0</th>\n",
       "      <td>ShopFast</td>\n",
       "      <td>200</td>\n",
       "      <td>0.05</td>\n",
       "    </tr>\n",
       "    <tr>\n",
       "      <th>2</th>\n",
       "      <td>FashionTrend</td>\n",
       "      <td>200</td>\n",
       "      <td>0.07</td>\n",
       "    </tr>\n",
       "    <tr>\n",
       "      <th>4</th>\n",
       "      <td>DigitalWorld</td>\n",
       "      <td>200</td>\n",
       "      <td>0.06</td>\n",
       "    </tr>\n",
       "  </tbody>\n",
       "</table>\n",
       "</div>"
      ],
      "text/plain": [
       "           loja http_status  response_time\n",
       "0      ShopFast         200           0.05\n",
       "2  FashionTrend         200           0.07\n",
       "4  DigitalWorld         200           0.06"
      ]
     },
     "execution_count": 48,
     "metadata": {},
     "output_type": "execute_result"
    }
   ],
   "source": [
    "df_200"
   ]
  },
  {
   "cell_type": "markdown",
   "id": "4051526b-4df5-4958-a095-2abe266f47e4",
   "metadata": {
    "jp-MarkdownHeadingCollapsed": true
   },
   "source": [
    "### (b) Filtrar apenas os sites cujo tempo de resposta seja menor que 0.08 ms"
   ]
  },
  {
   "cell_type": "code",
   "execution_count": 49,
   "id": "cf2849d0-f705-41a0-9c9c-089b6d543b5b",
   "metadata": {},
   "outputs": [],
   "source": [
    "df_menor_008 = df[df[\"response_time\"] < 0.08]"
   ]
  },
  {
   "cell_type": "code",
   "execution_count": 50,
   "id": "20818f8b-2cc8-4fbb-8bfd-ccce5c0696ea",
   "metadata": {},
   "outputs": [
    {
     "data": {
      "text/html": [
       "<div>\n",
       "<style scoped>\n",
       "    .dataframe tbody tr th:only-of-type {\n",
       "        vertical-align: middle;\n",
       "    }\n",
       "\n",
       "    .dataframe tbody tr th {\n",
       "        vertical-align: top;\n",
       "    }\n",
       "\n",
       "    .dataframe thead th {\n",
       "        text-align: right;\n",
       "    }\n",
       "</style>\n",
       "<table border=\"1\" class=\"dataframe\">\n",
       "  <thead>\n",
       "    <tr style=\"text-align: right;\">\n",
       "      <th></th>\n",
       "      <th>loja</th>\n",
       "      <th>http_status</th>\n",
       "      <th>response_time</th>\n",
       "    </tr>\n",
       "  </thead>\n",
       "  <tbody>\n",
       "    <tr>\n",
       "      <th>0</th>\n",
       "      <td>ShopFast</td>\n",
       "      <td>200</td>\n",
       "      <td>0.05</td>\n",
       "    </tr>\n",
       "    <tr>\n",
       "      <th>2</th>\n",
       "      <td>FashionTrend</td>\n",
       "      <td>200</td>\n",
       "      <td>0.07</td>\n",
       "    </tr>\n",
       "    <tr>\n",
       "      <th>4</th>\n",
       "      <td>DigitalWorld</td>\n",
       "      <td>200</td>\n",
       "      <td>0.06</td>\n",
       "    </tr>\n",
       "  </tbody>\n",
       "</table>\n",
       "</div>"
      ],
      "text/plain": [
       "           loja http_status  response_time\n",
       "0      ShopFast         200           0.05\n",
       "2  FashionTrend         200           0.07\n",
       "4  DigitalWorld         200           0.06"
      ]
     },
     "execution_count": 50,
     "metadata": {},
     "output_type": "execute_result"
    }
   ],
   "source": [
    "df_menor_008"
   ]
  },
  {
   "cell_type": "markdown",
   "id": "5834097f-3ed4-44a9-8dd8-f310d524ac09",
   "metadata": {
    "jp-MarkdownHeadingCollapsed": true
   },
   "source": [
    "### (c) Reindexar o DataFrame"
   ]
  },
  {
   "cell_type": "code",
   "execution_count": 51,
   "id": "b275cae8-000a-44bc-9843-6f4d955e350d",
   "metadata": {},
   "outputs": [],
   "source": [
    "new_index = [\"L1\", \"L2\", \"L3\", \"L4\", \"L5\", \"L6\", \"L7\"]"
   ]
  },
  {
   "cell_type": "code",
   "execution_count": 52,
   "id": "f850adc7-f982-452a-a1c0-5de63c7b7620",
   "metadata": {},
   "outputs": [],
   "source": [
    "df.index = new_index"
   ]
  },
  {
   "cell_type": "code",
   "execution_count": 53,
   "id": "216f543e-03dc-402c-9ad7-8b8231f41622",
   "metadata": {},
   "outputs": [
    {
     "data": {
      "text/html": [
       "<div>\n",
       "<style scoped>\n",
       "    .dataframe tbody tr th:only-of-type {\n",
       "        vertical-align: middle;\n",
       "    }\n",
       "\n",
       "    .dataframe tbody tr th {\n",
       "        vertical-align: top;\n",
       "    }\n",
       "\n",
       "    .dataframe thead th {\n",
       "        text-align: right;\n",
       "    }\n",
       "</style>\n",
       "<table border=\"1\" class=\"dataframe\">\n",
       "  <thead>\n",
       "    <tr style=\"text-align: right;\">\n",
       "      <th></th>\n",
       "      <th>loja</th>\n",
       "      <th>http_status</th>\n",
       "      <th>response_time</th>\n",
       "    </tr>\n",
       "  </thead>\n",
       "  <tbody>\n",
       "    <tr>\n",
       "      <th>L1</th>\n",
       "      <td>ShopFast</td>\n",
       "      <td>200</td>\n",
       "      <td>0.05</td>\n",
       "    </tr>\n",
       "    <tr>\n",
       "      <th>L2</th>\n",
       "      <td>ElectroStore</td>\n",
       "      <td>404</td>\n",
       "      <td>0.12</td>\n",
       "    </tr>\n",
       "    <tr>\n",
       "      <th>L3</th>\n",
       "      <td>FashionTrend</td>\n",
       "      <td>200</td>\n",
       "      <td>0.07</td>\n",
       "    </tr>\n",
       "    <tr>\n",
       "      <th>L4</th>\n",
       "      <td>OrganicMart</td>\n",
       "      <td>500</td>\n",
       "      <td>0.20</td>\n",
       "    </tr>\n",
       "    <tr>\n",
       "      <th>L5</th>\n",
       "      <td>DigitalWorld</td>\n",
       "      <td>200</td>\n",
       "      <td>0.06</td>\n",
       "    </tr>\n",
       "    <tr>\n",
       "      <th>L6</th>\n",
       "      <td>SafeBuy</td>\n",
       "      <td>403</td>\n",
       "      <td>0.09</td>\n",
       "    </tr>\n",
       "    <tr>\n",
       "      <th>L7</th>\n",
       "      <td>GameZone</td>\n",
       "      <td>404</td>\n",
       "      <td>0.15</td>\n",
       "    </tr>\n",
       "  </tbody>\n",
       "</table>\n",
       "</div>"
      ],
      "text/plain": [
       "            loja http_status  response_time\n",
       "L1      ShopFast         200           0.05\n",
       "L2  ElectroStore         404           0.12\n",
       "L3  FashionTrend         200           0.07\n",
       "L4   OrganicMart         500           0.20\n",
       "L5  DigitalWorld         200           0.06\n",
       "L6       SafeBuy         403           0.09\n",
       "L7      GameZone         404           0.15"
      ]
     },
     "execution_count": 53,
     "metadata": {},
     "output_type": "execute_result"
    }
   ],
   "source": [
    "df"
   ]
  },
  {
   "cell_type": "markdown",
   "id": "d808523b-9f17-4c10-84ec-78195c5ac860",
   "metadata": {},
   "source": [
    "### (d) Refazer os filtros anteriores e verificar os resultados"
   ]
  },
  {
   "cell_type": "markdown",
   "id": "fb14d2a9-43d6-4ca8-9cf3-8fb15bd3a824",
   "metadata": {
    "jp-MarkdownHeadingCollapsed": true
   },
   "source": [
    "#### (d.1) Apenas com Status 200"
   ]
  },
  {
   "cell_type": "code",
   "execution_count": 54,
   "id": "cf5d81ab-e419-4e3e-b995-48f9bb0e38cc",
   "metadata": {},
   "outputs": [],
   "source": [
    "df_status200 = df[df[\"http_status\"] == \"200\"]"
   ]
  },
  {
   "cell_type": "code",
   "execution_count": 55,
   "id": "22970654-eee7-4578-9e6c-2efc45f4ec5e",
   "metadata": {},
   "outputs": [
    {
     "data": {
      "text/html": [
       "<div>\n",
       "<style scoped>\n",
       "    .dataframe tbody tr th:only-of-type {\n",
       "        vertical-align: middle;\n",
       "    }\n",
       "\n",
       "    .dataframe tbody tr th {\n",
       "        vertical-align: top;\n",
       "    }\n",
       "\n",
       "    .dataframe thead th {\n",
       "        text-align: right;\n",
       "    }\n",
       "</style>\n",
       "<table border=\"1\" class=\"dataframe\">\n",
       "  <thead>\n",
       "    <tr style=\"text-align: right;\">\n",
       "      <th></th>\n",
       "      <th>loja</th>\n",
       "      <th>http_status</th>\n",
       "      <th>response_time</th>\n",
       "    </tr>\n",
       "  </thead>\n",
       "  <tbody>\n",
       "    <tr>\n",
       "      <th>L1</th>\n",
       "      <td>ShopFast</td>\n",
       "      <td>200</td>\n",
       "      <td>0.05</td>\n",
       "    </tr>\n",
       "    <tr>\n",
       "      <th>L3</th>\n",
       "      <td>FashionTrend</td>\n",
       "      <td>200</td>\n",
       "      <td>0.07</td>\n",
       "    </tr>\n",
       "    <tr>\n",
       "      <th>L5</th>\n",
       "      <td>DigitalWorld</td>\n",
       "      <td>200</td>\n",
       "      <td>0.06</td>\n",
       "    </tr>\n",
       "  </tbody>\n",
       "</table>\n",
       "</div>"
      ],
      "text/plain": [
       "            loja http_status  response_time\n",
       "L1      ShopFast         200           0.05\n",
       "L3  FashionTrend         200           0.07\n",
       "L5  DigitalWorld         200           0.06"
      ]
     },
     "execution_count": 55,
     "metadata": {},
     "output_type": "execute_result"
    }
   ],
   "source": [
    "df_status200"
   ]
  },
  {
   "cell_type": "markdown",
   "id": "d245a5d2-1a8e-4977-a409-1a010a255cc7",
   "metadata": {
    "jp-MarkdownHeadingCollapsed": true
   },
   "source": [
    "#### (d.2) Tempo de resposta menor que 0.08 ms"
   ]
  },
  {
   "cell_type": "code",
   "execution_count": 56,
   "id": "02e00e61-9a73-49aa-a438-3fc2ee8fb934",
   "metadata": {},
   "outputs": [],
   "source": [
    "df_menor_008 = df[df[\"response_time\"] < 0.08]"
   ]
  },
  {
   "cell_type": "code",
   "execution_count": 57,
   "id": "9e81c5c5-4f39-476c-a93b-441a5138a8cd",
   "metadata": {},
   "outputs": [
    {
     "data": {
      "text/html": [
       "<div>\n",
       "<style scoped>\n",
       "    .dataframe tbody tr th:only-of-type {\n",
       "        vertical-align: middle;\n",
       "    }\n",
       "\n",
       "    .dataframe tbody tr th {\n",
       "        vertical-align: top;\n",
       "    }\n",
       "\n",
       "    .dataframe thead th {\n",
       "        text-align: right;\n",
       "    }\n",
       "</style>\n",
       "<table border=\"1\" class=\"dataframe\">\n",
       "  <thead>\n",
       "    <tr style=\"text-align: right;\">\n",
       "      <th></th>\n",
       "      <th>loja</th>\n",
       "      <th>http_status</th>\n",
       "      <th>response_time</th>\n",
       "    </tr>\n",
       "  </thead>\n",
       "  <tbody>\n",
       "    <tr>\n",
       "      <th>L1</th>\n",
       "      <td>ShopFast</td>\n",
       "      <td>200</td>\n",
       "      <td>0.05</td>\n",
       "    </tr>\n",
       "    <tr>\n",
       "      <th>L3</th>\n",
       "      <td>FashionTrend</td>\n",
       "      <td>200</td>\n",
       "      <td>0.07</td>\n",
       "    </tr>\n",
       "    <tr>\n",
       "      <th>L5</th>\n",
       "      <td>DigitalWorld</td>\n",
       "      <td>200</td>\n",
       "      <td>0.06</td>\n",
       "    </tr>\n",
       "  </tbody>\n",
       "</table>\n",
       "</div>"
      ],
      "text/plain": [
       "            loja http_status  response_time\n",
       "L1      ShopFast         200           0.05\n",
       "L3  FashionTrend         200           0.07\n",
       "L5  DigitalWorld         200           0.06"
      ]
     },
     "execution_count": 57,
     "metadata": {},
     "output_type": "execute_result"
    }
   ],
   "source": [
    "df_menor_008"
   ]
  },
  {
   "cell_type": "markdown",
   "id": "684575b4-1f34-4e0d-b923-5e8f79c15894",
   "metadata": {
    "jp-MarkdownHeadingCollapsed": true
   },
   "source": [
    "### (e) Atualizar os dados da loja \"SafeBuy\""
   ]
  },
  {
   "cell_type": "code",
   "execution_count": 58,
   "id": "c471a4a3-f43b-467e-a5b4-88c5e72296e5",
   "metadata": {},
   "outputs": [],
   "source": [
    "df.loc[df[\"loja\"] == \"SafeBuy\", \n",
    "[\n",
    "    \"http_status\",\n",
    "    \"response_time\"\n",
    "]] = [501, 10.0]"
   ]
  },
  {
   "cell_type": "code",
   "execution_count": 59,
   "id": "f6026229-9938-456a-88d9-5b171e8dc688",
   "metadata": {},
   "outputs": [
    {
     "data": {
      "text/html": [
       "<div>\n",
       "<style scoped>\n",
       "    .dataframe tbody tr th:only-of-type {\n",
       "        vertical-align: middle;\n",
       "    }\n",
       "\n",
       "    .dataframe tbody tr th {\n",
       "        vertical-align: top;\n",
       "    }\n",
       "\n",
       "    .dataframe thead th {\n",
       "        text-align: right;\n",
       "    }\n",
       "</style>\n",
       "<table border=\"1\" class=\"dataframe\">\n",
       "  <thead>\n",
       "    <tr style=\"text-align: right;\">\n",
       "      <th></th>\n",
       "      <th>loja</th>\n",
       "      <th>http_status</th>\n",
       "      <th>response_time</th>\n",
       "    </tr>\n",
       "  </thead>\n",
       "  <tbody>\n",
       "    <tr>\n",
       "      <th>L1</th>\n",
       "      <td>ShopFast</td>\n",
       "      <td>200</td>\n",
       "      <td>0.05</td>\n",
       "    </tr>\n",
       "    <tr>\n",
       "      <th>L2</th>\n",
       "      <td>ElectroStore</td>\n",
       "      <td>404</td>\n",
       "      <td>0.12</td>\n",
       "    </tr>\n",
       "    <tr>\n",
       "      <th>L3</th>\n",
       "      <td>FashionTrend</td>\n",
       "      <td>200</td>\n",
       "      <td>0.07</td>\n",
       "    </tr>\n",
       "    <tr>\n",
       "      <th>L4</th>\n",
       "      <td>OrganicMart</td>\n",
       "      <td>500</td>\n",
       "      <td>0.20</td>\n",
       "    </tr>\n",
       "    <tr>\n",
       "      <th>L5</th>\n",
       "      <td>DigitalWorld</td>\n",
       "      <td>200</td>\n",
       "      <td>0.06</td>\n",
       "    </tr>\n",
       "    <tr>\n",
       "      <th>L6</th>\n",
       "      <td>SafeBuy</td>\n",
       "      <td>501</td>\n",
       "      <td>10.00</td>\n",
       "    </tr>\n",
       "    <tr>\n",
       "      <th>L7</th>\n",
       "      <td>GameZone</td>\n",
       "      <td>404</td>\n",
       "      <td>0.15</td>\n",
       "    </tr>\n",
       "  </tbody>\n",
       "</table>\n",
       "</div>"
      ],
      "text/plain": [
       "            loja http_status  response_time\n",
       "L1      ShopFast         200           0.05\n",
       "L2  ElectroStore         404           0.12\n",
       "L3  FashionTrend         200           0.07\n",
       "L4   OrganicMart         500           0.20\n",
       "L5  DigitalWorld         200           0.06\n",
       "L6       SafeBuy         501          10.00\n",
       "L7      GameZone         404           0.15"
      ]
     },
     "execution_count": 59,
     "metadata": {},
     "output_type": "execute_result"
    }
   ],
   "source": [
    "df"
   ]
  },
  {
   "cell_type": "markdown",
   "id": "f61401af-d6e6-4290-bf44-2c0082270bf1",
   "metadata": {
    "jp-MarkdownHeadingCollapsed": true
   },
   "source": [
    "### (f) Atualizar os dados da loja \"GameZone\""
   ]
  },
  {
   "cell_type": "code",
   "execution_count": 60,
   "id": "a60328fc-519d-4570-bbff-8bc6345b46ac",
   "metadata": {},
   "outputs": [],
   "source": [
    "df.loc[df[\"loja\"] == \"GameZone\", \n",
    "[\n",
    "    \"http_status\",\n",
    "    \"response_time\"\n",
    "]] = [\"503\", 8.0]\n"
   ]
  },
  {
   "cell_type": "code",
   "execution_count": 61,
   "id": "868caa7c-3895-41f8-85d3-6ce24edb60ad",
   "metadata": {},
   "outputs": [
    {
     "data": {
      "text/html": [
       "<div>\n",
       "<style scoped>\n",
       "    .dataframe tbody tr th:only-of-type {\n",
       "        vertical-align: middle;\n",
       "    }\n",
       "\n",
       "    .dataframe tbody tr th {\n",
       "        vertical-align: top;\n",
       "    }\n",
       "\n",
       "    .dataframe thead th {\n",
       "        text-align: right;\n",
       "    }\n",
       "</style>\n",
       "<table border=\"1\" class=\"dataframe\">\n",
       "  <thead>\n",
       "    <tr style=\"text-align: right;\">\n",
       "      <th></th>\n",
       "      <th>loja</th>\n",
       "      <th>http_status</th>\n",
       "      <th>response_time</th>\n",
       "    </tr>\n",
       "  </thead>\n",
       "  <tbody>\n",
       "    <tr>\n",
       "      <th>L1</th>\n",
       "      <td>ShopFast</td>\n",
       "      <td>200</td>\n",
       "      <td>0.05</td>\n",
       "    </tr>\n",
       "    <tr>\n",
       "      <th>L2</th>\n",
       "      <td>ElectroStore</td>\n",
       "      <td>404</td>\n",
       "      <td>0.12</td>\n",
       "    </tr>\n",
       "    <tr>\n",
       "      <th>L3</th>\n",
       "      <td>FashionTrend</td>\n",
       "      <td>200</td>\n",
       "      <td>0.07</td>\n",
       "    </tr>\n",
       "    <tr>\n",
       "      <th>L4</th>\n",
       "      <td>OrganicMart</td>\n",
       "      <td>500</td>\n",
       "      <td>0.20</td>\n",
       "    </tr>\n",
       "    <tr>\n",
       "      <th>L5</th>\n",
       "      <td>DigitalWorld</td>\n",
       "      <td>200</td>\n",
       "      <td>0.06</td>\n",
       "    </tr>\n",
       "    <tr>\n",
       "      <th>L6</th>\n",
       "      <td>SafeBuy</td>\n",
       "      <td>501</td>\n",
       "      <td>10.00</td>\n",
       "    </tr>\n",
       "    <tr>\n",
       "      <th>L7</th>\n",
       "      <td>GameZone</td>\n",
       "      <td>503</td>\n",
       "      <td>8.00</td>\n",
       "    </tr>\n",
       "  </tbody>\n",
       "</table>\n",
       "</div>"
      ],
      "text/plain": [
       "            loja http_status  response_time\n",
       "L1      ShopFast         200           0.05\n",
       "L2  ElectroStore         404           0.12\n",
       "L3  FashionTrend         200           0.07\n",
       "L4   OrganicMart         500           0.20\n",
       "L5  DigitalWorld         200           0.06\n",
       "L6       SafeBuy         501          10.00\n",
       "L7      GameZone         503           8.00"
      ]
     },
     "execution_count": 61,
     "metadata": {},
     "output_type": "execute_result"
    }
   ],
   "source": [
    "df"
   ]
  },
  {
   "cell_type": "markdown",
   "id": "885003e4-3a87-44dd-a26e-e311d352c9a6",
   "metadata": {
    "jp-MarkdownHeadingCollapsed": true
   },
   "source": [
    "### (g) Descobrir quais índices foram removidos na reindexação e restaurá-los"
   ]
  },
  {
   "cell_type": "code",
   "execution_count": 62,
   "id": "7bf4e960-41c7-4db4-b043-7992337e7ddc",
   "metadata": {},
   "outputs": [],
   "source": [
    "df.reset_index(drop=True, inplace=True)"
   ]
  },
  {
   "cell_type": "code",
   "execution_count": 65,
   "id": "29552dfc-c370-48f7-a97b-8d6f2adea7dd",
   "metadata": {},
   "outputs": [
    {
     "data": {
      "text/html": [
       "<div>\n",
       "<style scoped>\n",
       "    .dataframe tbody tr th:only-of-type {\n",
       "        vertical-align: middle;\n",
       "    }\n",
       "\n",
       "    .dataframe tbody tr th {\n",
       "        vertical-align: top;\n",
       "    }\n",
       "\n",
       "    .dataframe thead th {\n",
       "        text-align: right;\n",
       "    }\n",
       "</style>\n",
       "<table border=\"1\" class=\"dataframe\">\n",
       "  <thead>\n",
       "    <tr style=\"text-align: right;\">\n",
       "      <th></th>\n",
       "      <th>loja</th>\n",
       "      <th>http_status</th>\n",
       "      <th>response_time</th>\n",
       "    </tr>\n",
       "  </thead>\n",
       "  <tbody>\n",
       "    <tr>\n",
       "      <th>0</th>\n",
       "      <td>ShopFast</td>\n",
       "      <td>200</td>\n",
       "      <td>0.05</td>\n",
       "    </tr>\n",
       "    <tr>\n",
       "      <th>1</th>\n",
       "      <td>ElectroStore</td>\n",
       "      <td>404</td>\n",
       "      <td>0.12</td>\n",
       "    </tr>\n",
       "    <tr>\n",
       "      <th>2</th>\n",
       "      <td>FashionTrend</td>\n",
       "      <td>200</td>\n",
       "      <td>0.07</td>\n",
       "    </tr>\n",
       "    <tr>\n",
       "      <th>3</th>\n",
       "      <td>OrganicMart</td>\n",
       "      <td>500</td>\n",
       "      <td>0.20</td>\n",
       "    </tr>\n",
       "    <tr>\n",
       "      <th>4</th>\n",
       "      <td>DigitalWorld</td>\n",
       "      <td>200</td>\n",
       "      <td>0.06</td>\n",
       "    </tr>\n",
       "    <tr>\n",
       "      <th>5</th>\n",
       "      <td>SafeBuy</td>\n",
       "      <td>501</td>\n",
       "      <td>10.00</td>\n",
       "    </tr>\n",
       "    <tr>\n",
       "      <th>6</th>\n",
       "      <td>GameZone</td>\n",
       "      <td>503</td>\n",
       "      <td>8.00</td>\n",
       "    </tr>\n",
       "  </tbody>\n",
       "</table>\n",
       "</div>"
      ],
      "text/plain": [
       "           loja http_status  response_time\n",
       "0      ShopFast         200           0.05\n",
       "1  ElectroStore         404           0.12\n",
       "2  FashionTrend         200           0.07\n",
       "3   OrganicMart         500           0.20\n",
       "4  DigitalWorld         200           0.06\n",
       "5       SafeBuy         501          10.00\n",
       "6      GameZone         503           8.00"
      ]
     },
     "execution_count": 65,
     "metadata": {},
     "output_type": "execute_result"
    }
   ],
   "source": [
    "df"
   ]
  },
  {
   "cell_type": "markdown",
   "id": "8ad8900f-d6d1-41a2-8851-4510610aa434",
   "metadata": {},
   "source": [
    "### (h) Adicionar uma nova coluna com as versões atuais das lojas"
   ]
  },
  {
   "cell_type": "code",
   "execution_count": 66,
   "id": "de99eeae-f75d-4d20-b7a2-44bbc91d9457",
   "metadata": {},
   "outputs": [
    {
     "data": {
      "text/html": [
       "<div>\n",
       "<style scoped>\n",
       "    .dataframe tbody tr th:only-of-type {\n",
       "        vertical-align: middle;\n",
       "    }\n",
       "\n",
       "    .dataframe tbody tr th {\n",
       "        vertical-align: top;\n",
       "    }\n",
       "\n",
       "    .dataframe thead th {\n",
       "        text-align: right;\n",
       "    }\n",
       "</style>\n",
       "<table border=\"1\" class=\"dataframe\">\n",
       "  <thead>\n",
       "    <tr style=\"text-align: right;\">\n",
       "      <th></th>\n",
       "      <th>loja</th>\n",
       "      <th>http_status</th>\n",
       "      <th>response_time</th>\n",
       "      <th>system_v</th>\n",
       "    </tr>\n",
       "  </thead>\n",
       "  <tbody>\n",
       "    <tr>\n",
       "      <th>0</th>\n",
       "      <td>ShopFast</td>\n",
       "      <td>200</td>\n",
       "      <td>0.05</td>\n",
       "      <td>5.4</td>\n",
       "    </tr>\n",
       "    <tr>\n",
       "      <th>1</th>\n",
       "      <td>ElectroStore</td>\n",
       "      <td>404</td>\n",
       "      <td>0.12</td>\n",
       "      <td>3.9</td>\n",
       "    </tr>\n",
       "    <tr>\n",
       "      <th>2</th>\n",
       "      <td>FashionTrend</td>\n",
       "      <td>200</td>\n",
       "      <td>0.07</td>\n",
       "      <td>6.1</td>\n",
       "    </tr>\n",
       "    <tr>\n",
       "      <th>3</th>\n",
       "      <td>OrganicMart</td>\n",
       "      <td>500</td>\n",
       "      <td>0.20</td>\n",
       "      <td>4.3</td>\n",
       "    </tr>\n",
       "    <tr>\n",
       "      <th>4</th>\n",
       "      <td>DigitalWorld</td>\n",
       "      <td>200</td>\n",
       "      <td>0.06</td>\n",
       "      <td>5.8</td>\n",
       "    </tr>\n",
       "    <tr>\n",
       "      <th>5</th>\n",
       "      <td>SafeBuy</td>\n",
       "      <td>501</td>\n",
       "      <td>10.00</td>\n",
       "      <td>4.9</td>\n",
       "    </tr>\n",
       "    <tr>\n",
       "      <th>6</th>\n",
       "      <td>GameZone</td>\n",
       "      <td>503</td>\n",
       "      <td>8.00</td>\n",
       "      <td>6.2</td>\n",
       "    </tr>\n",
       "  </tbody>\n",
       "</table>\n",
       "</div>"
      ],
      "text/plain": [
       "           loja http_status  response_time  system_v\n",
       "0      ShopFast         200           0.05       5.4\n",
       "1  ElectroStore         404           0.12       3.9\n",
       "2  FashionTrend         200           0.07       6.1\n",
       "3   OrganicMart         500           0.20       4.3\n",
       "4  DigitalWorld         200           0.06       5.8\n",
       "5       SafeBuy         501          10.00       4.9\n",
       "6      GameZone         503           8.00       6.2"
      ]
     },
     "execution_count": 66,
     "metadata": {},
     "output_type": "execute_result"
    }
   ],
   "source": [
    "versoes = {\n",
    "    'ShopFast': 5.4,\n",
    "    'ElectroStore': 3.9,\n",
    "    'FashionTrend': 6.1,\n",
    "    'OrganicMart': 4.3,\n",
    "    'DigitalWorld': 5.8,\n",
    "    'SafeBuy': 4.9,\n",
    "    'GameZone': 6.2\n",
    "}\n",
    "\n",
    "df[\"system_v\"] = df[\"loja\"].map(versoes)\n",
    "df"
   ]
  },
  {
   "cell_type": "markdown",
   "id": "d4af74e0-0e73-4c20-9e45-a51b7b5c6137",
   "metadata": {
    "jp-MarkdownHeadingCollapsed": true
   },
   "source": [
    "## 2 - Exploração de métodos do Pandas"
   ]
  },
  {
   "cell_type": "code",
   "execution_count": 67,
   "id": "18d2e3f6-0406-46a0-aa7f-f78160af8013",
   "metadata": {},
   "outputs": [],
   "source": [
    "\n",
    "data = {\n",
    "    \"ID\": [1, 2, 3, 4, 5, 5, 6, 7, None, 9],\n",
    "    \"Nome\": [\"Alice\", \"Bob\", \"Charlie\", \"David\", \"Emma\", \"Emma\", \"Frank\", None, \"Hannah\", \"Isaac\"],\n",
    "    \"Idade\": [25, 30, None, 40, 35, 35, 28, 22, 31, None]\n",
    "}"
   ]
  },
  {
   "cell_type": "code",
   "execution_count": 68,
   "id": "cc26465d-7bd3-4167-b858-f1a771712284",
   "metadata": {},
   "outputs": [],
   "source": [
    "df = pd.DataFrame(data)"
   ]
  },
  {
   "cell_type": "code",
   "execution_count": 69,
   "id": "b462fa43-4168-48d4-8b2b-fbc3271ec12d",
   "metadata": {},
   "outputs": [
    {
     "data": {
      "text/html": [
       "<div>\n",
       "<style scoped>\n",
       "    .dataframe tbody tr th:only-of-type {\n",
       "        vertical-align: middle;\n",
       "    }\n",
       "\n",
       "    .dataframe tbody tr th {\n",
       "        vertical-align: top;\n",
       "    }\n",
       "\n",
       "    .dataframe thead th {\n",
       "        text-align: right;\n",
       "    }\n",
       "</style>\n",
       "<table border=\"1\" class=\"dataframe\">\n",
       "  <thead>\n",
       "    <tr style=\"text-align: right;\">\n",
       "      <th></th>\n",
       "      <th>ID</th>\n",
       "      <th>Nome</th>\n",
       "      <th>Idade</th>\n",
       "    </tr>\n",
       "  </thead>\n",
       "  <tbody>\n",
       "    <tr>\n",
       "      <th>0</th>\n",
       "      <td>1.0</td>\n",
       "      <td>Alice</td>\n",
       "      <td>25.0</td>\n",
       "    </tr>\n",
       "    <tr>\n",
       "      <th>1</th>\n",
       "      <td>2.0</td>\n",
       "      <td>Bob</td>\n",
       "      <td>30.0</td>\n",
       "    </tr>\n",
       "    <tr>\n",
       "      <th>2</th>\n",
       "      <td>3.0</td>\n",
       "      <td>Charlie</td>\n",
       "      <td>NaN</td>\n",
       "    </tr>\n",
       "    <tr>\n",
       "      <th>3</th>\n",
       "      <td>4.0</td>\n",
       "      <td>David</td>\n",
       "      <td>40.0</td>\n",
       "    </tr>\n",
       "    <tr>\n",
       "      <th>4</th>\n",
       "      <td>5.0</td>\n",
       "      <td>Emma</td>\n",
       "      <td>35.0</td>\n",
       "    </tr>\n",
       "    <tr>\n",
       "      <th>5</th>\n",
       "      <td>5.0</td>\n",
       "      <td>Emma</td>\n",
       "      <td>35.0</td>\n",
       "    </tr>\n",
       "    <tr>\n",
       "      <th>6</th>\n",
       "      <td>6.0</td>\n",
       "      <td>Frank</td>\n",
       "      <td>28.0</td>\n",
       "    </tr>\n",
       "    <tr>\n",
       "      <th>7</th>\n",
       "      <td>7.0</td>\n",
       "      <td>None</td>\n",
       "      <td>22.0</td>\n",
       "    </tr>\n",
       "    <tr>\n",
       "      <th>8</th>\n",
       "      <td>NaN</td>\n",
       "      <td>Hannah</td>\n",
       "      <td>31.0</td>\n",
       "    </tr>\n",
       "    <tr>\n",
       "      <th>9</th>\n",
       "      <td>9.0</td>\n",
       "      <td>Isaac</td>\n",
       "      <td>NaN</td>\n",
       "    </tr>\n",
       "  </tbody>\n",
       "</table>\n",
       "</div>"
      ],
      "text/plain": [
       "    ID     Nome  Idade\n",
       "0  1.0    Alice   25.0\n",
       "1  2.0      Bob   30.0\n",
       "2  3.0  Charlie    NaN\n",
       "3  4.0    David   40.0\n",
       "4  5.0     Emma   35.0\n",
       "5  5.0     Emma   35.0\n",
       "6  6.0    Frank   28.0\n",
       "7  7.0     None   22.0\n",
       "8  NaN   Hannah   31.0\n",
       "9  9.0    Isaac    NaN"
      ]
     },
     "execution_count": 69,
     "metadata": {},
     "output_type": "execute_result"
    }
   ],
   "source": [
    "df"
   ]
  },
  {
   "cell_type": "markdown",
   "id": "14771c7a-92a9-432d-ac91-98bcfa492d8a",
   "metadata": {
    "jp-MarkdownHeadingCollapsed": true
   },
   "source": [
    "##### dropna() : Remove todas as linhas que possuem, ao menos, um valor nulo"
   ]
  },
  {
   "cell_type": "code",
   "execution_count": 71,
   "id": "b9d4dc34-fd14-4de9-af8b-d48d3a53ab20",
   "metadata": {},
   "outputs": [
    {
     "data": {
      "text/html": [
       "<div>\n",
       "<style scoped>\n",
       "    .dataframe tbody tr th:only-of-type {\n",
       "        vertical-align: middle;\n",
       "    }\n",
       "\n",
       "    .dataframe tbody tr th {\n",
       "        vertical-align: top;\n",
       "    }\n",
       "\n",
       "    .dataframe thead th {\n",
       "        text-align: right;\n",
       "    }\n",
       "</style>\n",
       "<table border=\"1\" class=\"dataframe\">\n",
       "  <thead>\n",
       "    <tr style=\"text-align: right;\">\n",
       "      <th></th>\n",
       "      <th>ID</th>\n",
       "      <th>Nome</th>\n",
       "      <th>Idade</th>\n",
       "    </tr>\n",
       "  </thead>\n",
       "  <tbody>\n",
       "    <tr>\n",
       "      <th>0</th>\n",
       "      <td>1.0</td>\n",
       "      <td>Alice</td>\n",
       "      <td>25.0</td>\n",
       "    </tr>\n",
       "    <tr>\n",
       "      <th>1</th>\n",
       "      <td>2.0</td>\n",
       "      <td>Bob</td>\n",
       "      <td>30.0</td>\n",
       "    </tr>\n",
       "    <tr>\n",
       "      <th>3</th>\n",
       "      <td>4.0</td>\n",
       "      <td>David</td>\n",
       "      <td>40.0</td>\n",
       "    </tr>\n",
       "    <tr>\n",
       "      <th>4</th>\n",
       "      <td>5.0</td>\n",
       "      <td>Emma</td>\n",
       "      <td>35.0</td>\n",
       "    </tr>\n",
       "    <tr>\n",
       "      <th>5</th>\n",
       "      <td>5.0</td>\n",
       "      <td>Emma</td>\n",
       "      <td>35.0</td>\n",
       "    </tr>\n",
       "    <tr>\n",
       "      <th>6</th>\n",
       "      <td>6.0</td>\n",
       "      <td>Frank</td>\n",
       "      <td>28.0</td>\n",
       "    </tr>\n",
       "  </tbody>\n",
       "</table>\n",
       "</div>"
      ],
      "text/plain": [
       "    ID   Nome  Idade\n",
       "0  1.0  Alice   25.0\n",
       "1  2.0    Bob   30.0\n",
       "3  4.0  David   40.0\n",
       "4  5.0   Emma   35.0\n",
       "5  5.0   Emma   35.0\n",
       "6  6.0  Frank   28.0"
      ]
     },
     "execution_count": 71,
     "metadata": {},
     "output_type": "execute_result"
    }
   ],
   "source": [
    "df.dropna()"
   ]
  },
  {
   "cell_type": "markdown",
   "id": "1a36f3ae-1912-41ac-bd3e-a9af56d2f7a2",
   "metadata": {
    "jp-MarkdownHeadingCollapsed": true
   },
   "source": [
    "##### drop_duplicates() : Remove as linhas duplicadas do dataframe, mantendo apenas a primeira ocorrência "
   ]
  },
  {
   "cell_type": "code",
   "execution_count": 72,
   "id": "0ec55efd-8aa5-4772-9ad4-67d2622db59a",
   "metadata": {},
   "outputs": [
    {
     "data": {
      "text/html": [
       "<div>\n",
       "<style scoped>\n",
       "    .dataframe tbody tr th:only-of-type {\n",
       "        vertical-align: middle;\n",
       "    }\n",
       "\n",
       "    .dataframe tbody tr th {\n",
       "        vertical-align: top;\n",
       "    }\n",
       "\n",
       "    .dataframe thead th {\n",
       "        text-align: right;\n",
       "    }\n",
       "</style>\n",
       "<table border=\"1\" class=\"dataframe\">\n",
       "  <thead>\n",
       "    <tr style=\"text-align: right;\">\n",
       "      <th></th>\n",
       "      <th>ID</th>\n",
       "      <th>Nome</th>\n",
       "      <th>Idade</th>\n",
       "    </tr>\n",
       "  </thead>\n",
       "  <tbody>\n",
       "    <tr>\n",
       "      <th>0</th>\n",
       "      <td>1.0</td>\n",
       "      <td>Alice</td>\n",
       "      <td>25.0</td>\n",
       "    </tr>\n",
       "    <tr>\n",
       "      <th>1</th>\n",
       "      <td>2.0</td>\n",
       "      <td>Bob</td>\n",
       "      <td>30.0</td>\n",
       "    </tr>\n",
       "    <tr>\n",
       "      <th>2</th>\n",
       "      <td>3.0</td>\n",
       "      <td>Charlie</td>\n",
       "      <td>NaN</td>\n",
       "    </tr>\n",
       "    <tr>\n",
       "      <th>3</th>\n",
       "      <td>4.0</td>\n",
       "      <td>David</td>\n",
       "      <td>40.0</td>\n",
       "    </tr>\n",
       "    <tr>\n",
       "      <th>4</th>\n",
       "      <td>5.0</td>\n",
       "      <td>Emma</td>\n",
       "      <td>35.0</td>\n",
       "    </tr>\n",
       "    <tr>\n",
       "      <th>6</th>\n",
       "      <td>6.0</td>\n",
       "      <td>Frank</td>\n",
       "      <td>28.0</td>\n",
       "    </tr>\n",
       "    <tr>\n",
       "      <th>7</th>\n",
       "      <td>7.0</td>\n",
       "      <td>None</td>\n",
       "      <td>22.0</td>\n",
       "    </tr>\n",
       "    <tr>\n",
       "      <th>8</th>\n",
       "      <td>NaN</td>\n",
       "      <td>Hannah</td>\n",
       "      <td>31.0</td>\n",
       "    </tr>\n",
       "    <tr>\n",
       "      <th>9</th>\n",
       "      <td>9.0</td>\n",
       "      <td>Isaac</td>\n",
       "      <td>NaN</td>\n",
       "    </tr>\n",
       "  </tbody>\n",
       "</table>\n",
       "</div>"
      ],
      "text/plain": [
       "    ID     Nome  Idade\n",
       "0  1.0    Alice   25.0\n",
       "1  2.0      Bob   30.0\n",
       "2  3.0  Charlie    NaN\n",
       "3  4.0    David   40.0\n",
       "4  5.0     Emma   35.0\n",
       "6  6.0    Frank   28.0\n",
       "7  7.0     None   22.0\n",
       "8  NaN   Hannah   31.0\n",
       "9  9.0    Isaac    NaN"
      ]
     },
     "execution_count": 72,
     "metadata": {},
     "output_type": "execute_result"
    }
   ],
   "source": [
    "df.drop_duplicates()"
   ]
  },
  {
   "cell_type": "markdown",
   "id": "9af8eaac-9adf-44f3-a045-26b797127741",
   "metadata": {
    "jp-MarkdownHeadingCollapsed": true
   },
   "source": [
    "##### merge() : "
   ]
  },
  {
   "cell_type": "code",
   "execution_count": 77,
   "id": "1a27042d-e6d4-492b-bf74-80b5c0306233",
   "metadata": {},
   "outputs": [],
   "source": [
    "df_clientes = pd.DataFrame({\n",
    "    \"ID_Cliente\": [1, 2, 3, 4],\n",
    "    \"Nome\": [\"Alice\", \"Bob\", \"Carlos\", \"Diana\"],\n",
    "    \"Idade\": [25, 30, 35, 40]\n",
    "})\n",
    "\n",
    "df_compras = pd.DataFrame({\n",
    "    \"ID_Cliente\": [2, 3, 3, 4, 5],\n",
    "    \"Produto\": [\"Notebook\", \"Celular\", \"Fone de Ouvido\", \"Tablet\", \"Smartwatch\"],\n",
    "    \"Valor\": [5000, 2000, 300, 1500, 800]\n",
    "})"
   ]
  },
  {
   "cell_type": "markdown",
   "id": "758e518b-baf4-41d0-aae7-3b66ed57fed7",
   "metadata": {
    "jp-MarkdownHeadingCollapsed": true
   },
   "source": [
    "###### Inner Join -> Mantém apenas os registros que possuem correspondências em ambas as tabelas\n",
    "- Se um cliente não tiver compras registradas, ele será removido do resultado final."
   ]
  },
  {
   "cell_type": "code",
   "execution_count": 83,
   "id": "1a4c05b6-b6da-4bd8-b9e6-028778645c5a",
   "metadata": {},
   "outputs": [
    {
     "data": {
      "text/html": [
       "<div>\n",
       "<style scoped>\n",
       "    .dataframe tbody tr th:only-of-type {\n",
       "        vertical-align: middle;\n",
       "    }\n",
       "\n",
       "    .dataframe tbody tr th {\n",
       "        vertical-align: top;\n",
       "    }\n",
       "\n",
       "    .dataframe thead th {\n",
       "        text-align: right;\n",
       "    }\n",
       "</style>\n",
       "<table border=\"1\" class=\"dataframe\">\n",
       "  <thead>\n",
       "    <tr style=\"text-align: right;\">\n",
       "      <th></th>\n",
       "      <th>ID_Cliente</th>\n",
       "      <th>Nome</th>\n",
       "      <th>Idade</th>\n",
       "      <th>Produto</th>\n",
       "      <th>Valor</th>\n",
       "    </tr>\n",
       "  </thead>\n",
       "  <tbody>\n",
       "    <tr>\n",
       "      <th>0</th>\n",
       "      <td>2</td>\n",
       "      <td>Bob</td>\n",
       "      <td>30</td>\n",
       "      <td>Notebook</td>\n",
       "      <td>5000</td>\n",
       "    </tr>\n",
       "    <tr>\n",
       "      <th>1</th>\n",
       "      <td>3</td>\n",
       "      <td>Carlos</td>\n",
       "      <td>35</td>\n",
       "      <td>Celular</td>\n",
       "      <td>2000</td>\n",
       "    </tr>\n",
       "    <tr>\n",
       "      <th>2</th>\n",
       "      <td>3</td>\n",
       "      <td>Carlos</td>\n",
       "      <td>35</td>\n",
       "      <td>Fone de Ouvido</td>\n",
       "      <td>300</td>\n",
       "    </tr>\n",
       "    <tr>\n",
       "      <th>3</th>\n",
       "      <td>4</td>\n",
       "      <td>Diana</td>\n",
       "      <td>40</td>\n",
       "      <td>Tablet</td>\n",
       "      <td>1500</td>\n",
       "    </tr>\n",
       "  </tbody>\n",
       "</table>\n",
       "</div>"
      ],
      "text/plain": [
       "   ID_Cliente    Nome  Idade         Produto  Valor\n",
       "0           2     Bob     30        Notebook   5000\n",
       "1           3  Carlos     35         Celular   2000\n",
       "2           3  Carlos     35  Fone de Ouvido    300\n",
       "3           4   Diana     40          Tablet   1500"
      ]
     },
     "execution_count": 83,
     "metadata": {},
     "output_type": "execute_result"
    }
   ],
   "source": [
    "df_merged = df_clientes.merge(df_compras, on=\"ID_Cliente\", how=\"inner\")\n",
    "df_merged"
   ]
  },
  {
   "cell_type": "markdown",
   "id": "453abda5-c8a5-443a-b27a-a3008d7ea74c",
   "metadata": {
    "jp-MarkdownHeadingCollapsed": true
   },
   "source": [
    "###### Left join -> Mantém todos os clientes da tabela df_clientes, mesmo que estes não possuam compras\n",
    "- Se um cliente não tiver compras, os valores da tabela df_compras aparecerão como NaN."
   ]
  },
  {
   "cell_type": "code",
   "execution_count": 82,
   "id": "356ae59f-247b-48c8-b704-1645c09054b8",
   "metadata": {},
   "outputs": [
    {
     "data": {
      "text/html": [
       "<div>\n",
       "<style scoped>\n",
       "    .dataframe tbody tr th:only-of-type {\n",
       "        vertical-align: middle;\n",
       "    }\n",
       "\n",
       "    .dataframe tbody tr th {\n",
       "        vertical-align: top;\n",
       "    }\n",
       "\n",
       "    .dataframe thead th {\n",
       "        text-align: right;\n",
       "    }\n",
       "</style>\n",
       "<table border=\"1\" class=\"dataframe\">\n",
       "  <thead>\n",
       "    <tr style=\"text-align: right;\">\n",
       "      <th></th>\n",
       "      <th>ID_Cliente</th>\n",
       "      <th>Nome</th>\n",
       "      <th>Idade</th>\n",
       "      <th>Produto</th>\n",
       "      <th>Valor</th>\n",
       "    </tr>\n",
       "  </thead>\n",
       "  <tbody>\n",
       "    <tr>\n",
       "      <th>0</th>\n",
       "      <td>1</td>\n",
       "      <td>Alice</td>\n",
       "      <td>25</td>\n",
       "      <td>NaN</td>\n",
       "      <td>NaN</td>\n",
       "    </tr>\n",
       "    <tr>\n",
       "      <th>1</th>\n",
       "      <td>2</td>\n",
       "      <td>Bob</td>\n",
       "      <td>30</td>\n",
       "      <td>Notebook</td>\n",
       "      <td>5000.0</td>\n",
       "    </tr>\n",
       "    <tr>\n",
       "      <th>2</th>\n",
       "      <td>3</td>\n",
       "      <td>Carlos</td>\n",
       "      <td>35</td>\n",
       "      <td>Celular</td>\n",
       "      <td>2000.0</td>\n",
       "    </tr>\n",
       "    <tr>\n",
       "      <th>3</th>\n",
       "      <td>3</td>\n",
       "      <td>Carlos</td>\n",
       "      <td>35</td>\n",
       "      <td>Fone de Ouvido</td>\n",
       "      <td>300.0</td>\n",
       "    </tr>\n",
       "    <tr>\n",
       "      <th>4</th>\n",
       "      <td>4</td>\n",
       "      <td>Diana</td>\n",
       "      <td>40</td>\n",
       "      <td>Tablet</td>\n",
       "      <td>1500.0</td>\n",
       "    </tr>\n",
       "  </tbody>\n",
       "</table>\n",
       "</div>"
      ],
      "text/plain": [
       "   ID_Cliente    Nome  Idade         Produto   Valor\n",
       "0           1   Alice     25             NaN     NaN\n",
       "1           2     Bob     30        Notebook  5000.0\n",
       "2           3  Carlos     35         Celular  2000.0\n",
       "3           3  Carlos     35  Fone de Ouvido   300.0\n",
       "4           4   Diana     40          Tablet  1500.0"
      ]
     },
     "execution_count": 82,
     "metadata": {},
     "output_type": "execute_result"
    }
   ],
   "source": [
    "df_merged_left = df_clientes.merge(df_compras, on=\"ID_Cliente\", how=\"left\")\n",
    "df_merged_left"
   ]
  },
  {
   "cell_type": "markdown",
   "id": "95753e62-5998-4ab4-8773-ec35948eb363",
   "metadata": {
    "jp-MarkdownHeadingCollapsed": true
   },
   "source": [
    "##### concat() : Utilizado para empilhar dataframes verticalmente"
   ]
  },
  {
   "cell_type": "code",
   "execution_count": 85,
   "id": "56b7e1bf-9559-4e0c-9528-ab3514ad3eb9",
   "metadata": {},
   "outputs": [],
   "source": [
    "df_eletronicos = pd.DataFrame({\n",
    "    \"Produto\": [\"Celular\", \"AirPods\", \"SmartWatch\"],\n",
    "    \"Preço\": [2500, 600, 1400]\n",
    "})\n",
    "\n",
    "df_eletrodomesticos = pd.DataFrame({\n",
    "    \"Produto\": [\"Micro-ondas\", \"Lava-louça\", \"Geladeira\"],\n",
    "    \"Preço\": [600, 1200, 1800]\n",
    "})"
   ]
  },
  {
   "cell_type": "code",
   "execution_count": 86,
   "id": "30c482e7-fc7d-4530-a0b1-f18be3100cc9",
   "metadata": {},
   "outputs": [],
   "source": [
    "df_final = pd.concat([df_eletronicos, df_eletrodomesticos], axis=0)"
   ]
  },
  {
   "cell_type": "code",
   "execution_count": 87,
   "id": "7a01805f-32d4-4551-9554-4753c5b5b7c5",
   "metadata": {},
   "outputs": [
    {
     "data": {
      "text/html": [
       "<div>\n",
       "<style scoped>\n",
       "    .dataframe tbody tr th:only-of-type {\n",
       "        vertical-align: middle;\n",
       "    }\n",
       "\n",
       "    .dataframe tbody tr th {\n",
       "        vertical-align: top;\n",
       "    }\n",
       "\n",
       "    .dataframe thead th {\n",
       "        text-align: right;\n",
       "    }\n",
       "</style>\n",
       "<table border=\"1\" class=\"dataframe\">\n",
       "  <thead>\n",
       "    <tr style=\"text-align: right;\">\n",
       "      <th></th>\n",
       "      <th>Produto</th>\n",
       "      <th>Preço</th>\n",
       "    </tr>\n",
       "  </thead>\n",
       "  <tbody>\n",
       "    <tr>\n",
       "      <th>0</th>\n",
       "      <td>Celular</td>\n",
       "      <td>2500</td>\n",
       "    </tr>\n",
       "    <tr>\n",
       "      <th>1</th>\n",
       "      <td>AirPods</td>\n",
       "      <td>600</td>\n",
       "    </tr>\n",
       "    <tr>\n",
       "      <th>2</th>\n",
       "      <td>SmartWatch</td>\n",
       "      <td>1400</td>\n",
       "    </tr>\n",
       "    <tr>\n",
       "      <th>0</th>\n",
       "      <td>Micro-ondas</td>\n",
       "      <td>600</td>\n",
       "    </tr>\n",
       "    <tr>\n",
       "      <th>1</th>\n",
       "      <td>Lava-louça</td>\n",
       "      <td>1200</td>\n",
       "    </tr>\n",
       "    <tr>\n",
       "      <th>2</th>\n",
       "      <td>Geladeira</td>\n",
       "      <td>1800</td>\n",
       "    </tr>\n",
       "  </tbody>\n",
       "</table>\n",
       "</div>"
      ],
      "text/plain": [
       "       Produto  Preço\n",
       "0      Celular   2500\n",
       "1      AirPods    600\n",
       "2   SmartWatch   1400\n",
       "0  Micro-ondas    600\n",
       "1   Lava-louça   1200\n",
       "2    Geladeira   1800"
      ]
     },
     "execution_count": 87,
     "metadata": {},
     "output_type": "execute_result"
    }
   ],
   "source": [
    "df_final"
   ]
  },
  {
   "cell_type": "markdown",
   "id": "e19bdda9-04ed-47b8-b14a-0cf468de662d",
   "metadata": {},
   "source": [
    "###### Para redefinição os index"
   ]
  },
  {
   "cell_type": "code",
   "execution_count": 90,
   "id": "7b93a12a-c615-4912-8ebe-4b7318c9f93a",
   "metadata": {},
   "outputs": [],
   "source": [
    "df_final = df_final.reset_index(drop=True)"
   ]
  },
  {
   "cell_type": "code",
   "execution_count": 91,
   "id": "f06c4943-6654-4128-803b-2ab8137b8821",
   "metadata": {},
   "outputs": [
    {
     "data": {
      "text/html": [
       "<div>\n",
       "<style scoped>\n",
       "    .dataframe tbody tr th:only-of-type {\n",
       "        vertical-align: middle;\n",
       "    }\n",
       "\n",
       "    .dataframe tbody tr th {\n",
       "        vertical-align: top;\n",
       "    }\n",
       "\n",
       "    .dataframe thead th {\n",
       "        text-align: right;\n",
       "    }\n",
       "</style>\n",
       "<table border=\"1\" class=\"dataframe\">\n",
       "  <thead>\n",
       "    <tr style=\"text-align: right;\">\n",
       "      <th></th>\n",
       "      <th>Produto</th>\n",
       "      <th>Preço</th>\n",
       "    </tr>\n",
       "  </thead>\n",
       "  <tbody>\n",
       "    <tr>\n",
       "      <th>0</th>\n",
       "      <td>Celular</td>\n",
       "      <td>2500</td>\n",
       "    </tr>\n",
       "    <tr>\n",
       "      <th>1</th>\n",
       "      <td>AirPods</td>\n",
       "      <td>600</td>\n",
       "    </tr>\n",
       "    <tr>\n",
       "      <th>2</th>\n",
       "      <td>SmartWatch</td>\n",
       "      <td>1400</td>\n",
       "    </tr>\n",
       "    <tr>\n",
       "      <th>3</th>\n",
       "      <td>Micro-ondas</td>\n",
       "      <td>600</td>\n",
       "    </tr>\n",
       "    <tr>\n",
       "      <th>4</th>\n",
       "      <td>Lava-louça</td>\n",
       "      <td>1200</td>\n",
       "    </tr>\n",
       "    <tr>\n",
       "      <th>5</th>\n",
       "      <td>Geladeira</td>\n",
       "      <td>1800</td>\n",
       "    </tr>\n",
       "  </tbody>\n",
       "</table>\n",
       "</div>"
      ],
      "text/plain": [
       "       Produto  Preço\n",
       "0      Celular   2500\n",
       "1      AirPods    600\n",
       "2   SmartWatch   1400\n",
       "3  Micro-ondas    600\n",
       "4   Lava-louça   1200\n",
       "5    Geladeira   1800"
      ]
     },
     "execution_count": 91,
     "metadata": {},
     "output_type": "execute_result"
    }
   ],
   "source": [
    "df_final"
   ]
  },
  {
   "cell_type": "markdown",
   "id": "d830ec47-f678-4104-8979-c50226b5fb7d",
   "metadata": {
    "jp-MarkdownHeadingCollapsed": true
   },
   "source": [
    "##### groupby"
   ]
  },
  {
   "cell_type": "code",
   "execution_count": 92,
   "id": "c3fd0e01-c755-4586-b371-6fc3863b09bd",
   "metadata": {},
   "outputs": [],
   "source": [
    "df_vendas = pd.DataFrame({\n",
    "    \"Categoria\": [\"Eletrônicos\", \"Eletrodomésticos\", \"Eletrônicos\", \"Móveis\", \"Móveis\", \"Eletrodomésticos\", \"Eletrônicos\"],\n",
    "    \"Produto\": [\"Notebook\", \"Geladeira\", \"Smartphone\", \"Sofá\", \"Mesa\", \"Fogão\", \"Fone de Ouvido\"],\n",
    "    \"Vendas\": [5000, 3200, 2500, 1800, 1200, 1500, 800]\n",
    "})"
   ]
  },
  {
   "cell_type": "code",
   "execution_count": 98,
   "id": "277216b6-6552-41ff-8990-4ab2ddf5dad7",
   "metadata": {},
   "outputs": [],
   "source": [
    "df_agrupado = df_vendas.groupby(\"Categoria\")[\"Vendas\"].sum().reset_index()"
   ]
  },
  {
   "cell_type": "code",
   "execution_count": 99,
   "id": "19a1c3e2-4475-4684-a743-a7d77d3c0421",
   "metadata": {},
   "outputs": [
    {
     "data": {
      "text/html": [
       "<div>\n",
       "<style scoped>\n",
       "    .dataframe tbody tr th:only-of-type {\n",
       "        vertical-align: middle;\n",
       "    }\n",
       "\n",
       "    .dataframe tbody tr th {\n",
       "        vertical-align: top;\n",
       "    }\n",
       "\n",
       "    .dataframe thead th {\n",
       "        text-align: right;\n",
       "    }\n",
       "</style>\n",
       "<table border=\"1\" class=\"dataframe\">\n",
       "  <thead>\n",
       "    <tr style=\"text-align: right;\">\n",
       "      <th></th>\n",
       "      <th>Categoria</th>\n",
       "      <th>Vendas</th>\n",
       "    </tr>\n",
       "  </thead>\n",
       "  <tbody>\n",
       "    <tr>\n",
       "      <th>0</th>\n",
       "      <td>Eletrodomésticos</td>\n",
       "      <td>4700</td>\n",
       "    </tr>\n",
       "    <tr>\n",
       "      <th>1</th>\n",
       "      <td>Eletrônicos</td>\n",
       "      <td>8300</td>\n",
       "    </tr>\n",
       "    <tr>\n",
       "      <th>2</th>\n",
       "      <td>Móveis</td>\n",
       "      <td>3000</td>\n",
       "    </tr>\n",
       "  </tbody>\n",
       "</table>\n",
       "</div>"
      ],
      "text/plain": [
       "          Categoria  Vendas\n",
       "0  Eletrodomésticos    4700\n",
       "1       Eletrônicos    8300\n",
       "2            Móveis    3000"
      ]
     },
     "execution_count": 99,
     "metadata": {},
     "output_type": "execute_result"
    }
   ],
   "source": [
    "df_agrupado"
   ]
  },
  {
   "cell_type": "code",
   "execution_count": null,
   "id": "63861403-61e3-4264-999c-7c48f500e9bc",
   "metadata": {},
   "outputs": [],
   "source": []
  }
 ],
 "metadata": {
  "kernelspec": {
   "display_name": "Python 3 (ipykernel)",
   "language": "python",
   "name": "python3"
  },
  "language_info": {
   "codemirror_mode": {
    "name": "ipython",
    "version": 3
   },
   "file_extension": ".py",
   "mimetype": "text/x-python",
   "name": "python",
   "nbconvert_exporter": "python",
   "pygments_lexer": "ipython3",
   "version": "3.12.7"
  }
 },
 "nbformat": 4,
 "nbformat_minor": 5
}
