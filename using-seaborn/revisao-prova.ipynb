{
 "cells": [
  {
   "cell_type": "code",
   "execution_count": 41,
   "id": "271a5b9a-5901-455a-bc6c-3912542733b2",
   "metadata": {},
   "outputs": [],
   "source": [
    "import pandas as pd\n",
    "import seaborn as sns"
   ]
  },
  {
   "cell_type": "code",
   "execution_count": 29,
   "id": "3d8a6a34-019e-45bb-a7d5-6dbbbe409a2b",
   "metadata": {},
   "outputs": [],
   "source": [
    "df = pd.read_csv(\"titanic_treino.csv\")"
   ]
  },
  {
   "cell_type": "markdown",
   "id": "af581cee-5a54-41e9-8917-195662f5aec5",
   "metadata": {
    "jp-MarkdownHeadingCollapsed": true
   },
   "source": [
    "### Display the first five lines"
   ]
  },
  {
   "cell_type": "code",
   "execution_count": 30,
   "id": "1af5dbd0-6d01-4d8e-b7e6-c71d511bdfa5",
   "metadata": {},
   "outputs": [
    {
     "data": {
      "text/html": [
       "<div>\n",
       "<style scoped>\n",
       "    .dataframe tbody tr th:only-of-type {\n",
       "        vertical-align: middle;\n",
       "    }\n",
       "\n",
       "    .dataframe tbody tr th {\n",
       "        vertical-align: top;\n",
       "    }\n",
       "\n",
       "    .dataframe thead th {\n",
       "        text-align: right;\n",
       "    }\n",
       "</style>\n",
       "<table border=\"1\" class=\"dataframe\">\n",
       "  <thead>\n",
       "    <tr style=\"text-align: right;\">\n",
       "      <th></th>\n",
       "      <th>PassengerId</th>\n",
       "      <th>Survived</th>\n",
       "      <th>Pclass</th>\n",
       "      <th>Name</th>\n",
       "      <th>Sex</th>\n",
       "      <th>Age</th>\n",
       "      <th>SibSp</th>\n",
       "      <th>Parch</th>\n",
       "      <th>Ticket</th>\n",
       "      <th>Fare</th>\n",
       "      <th>Cabin</th>\n",
       "      <th>Embarked</th>\n",
       "    </tr>\n",
       "  </thead>\n",
       "  <tbody>\n",
       "    <tr>\n",
       "      <th>0</th>\n",
       "      <td>1</td>\n",
       "      <td>0</td>\n",
       "      <td>3</td>\n",
       "      <td>Braund, Mr. Owen Harris</td>\n",
       "      <td>male</td>\n",
       "      <td>22.0</td>\n",
       "      <td>1</td>\n",
       "      <td>0</td>\n",
       "      <td>A/5 21171</td>\n",
       "      <td>7.2500</td>\n",
       "      <td>NaN</td>\n",
       "      <td>S</td>\n",
       "    </tr>\n",
       "    <tr>\n",
       "      <th>1</th>\n",
       "      <td>2</td>\n",
       "      <td>1</td>\n",
       "      <td>1</td>\n",
       "      <td>Cumings, Mrs. John Bradley (Florence Briggs Th...</td>\n",
       "      <td>female</td>\n",
       "      <td>38.0</td>\n",
       "      <td>1</td>\n",
       "      <td>0</td>\n",
       "      <td>PC 17599</td>\n",
       "      <td>71.2833</td>\n",
       "      <td>C85</td>\n",
       "      <td>C</td>\n",
       "    </tr>\n",
       "    <tr>\n",
       "      <th>2</th>\n",
       "      <td>3</td>\n",
       "      <td>1</td>\n",
       "      <td>3</td>\n",
       "      <td>Heikkinen, Miss. Laina</td>\n",
       "      <td>female</td>\n",
       "      <td>26.0</td>\n",
       "      <td>0</td>\n",
       "      <td>0</td>\n",
       "      <td>STON/O2. 3101282</td>\n",
       "      <td>7.9250</td>\n",
       "      <td>NaN</td>\n",
       "      <td>S</td>\n",
       "    </tr>\n",
       "    <tr>\n",
       "      <th>3</th>\n",
       "      <td>4</td>\n",
       "      <td>1</td>\n",
       "      <td>1</td>\n",
       "      <td>Futrelle, Mrs. Jacques Heath (Lily May Peel)</td>\n",
       "      <td>female</td>\n",
       "      <td>35.0</td>\n",
       "      <td>1</td>\n",
       "      <td>0</td>\n",
       "      <td>113803</td>\n",
       "      <td>53.1000</td>\n",
       "      <td>C123</td>\n",
       "      <td>S</td>\n",
       "    </tr>\n",
       "    <tr>\n",
       "      <th>4</th>\n",
       "      <td>5</td>\n",
       "      <td>0</td>\n",
       "      <td>3</td>\n",
       "      <td>Allen, Mr. William Henry</td>\n",
       "      <td>male</td>\n",
       "      <td>35.0</td>\n",
       "      <td>0</td>\n",
       "      <td>0</td>\n",
       "      <td>373450</td>\n",
       "      <td>8.0500</td>\n",
       "      <td>NaN</td>\n",
       "      <td>S</td>\n",
       "    </tr>\n",
       "  </tbody>\n",
       "</table>\n",
       "</div>"
      ],
      "text/plain": [
       "   PassengerId  Survived  Pclass  \\\n",
       "0            1         0       3   \n",
       "1            2         1       1   \n",
       "2            3         1       3   \n",
       "3            4         1       1   \n",
       "4            5         0       3   \n",
       "\n",
       "                                                Name     Sex   Age  SibSp  \\\n",
       "0                            Braund, Mr. Owen Harris    male  22.0      1   \n",
       "1  Cumings, Mrs. John Bradley (Florence Briggs Th...  female  38.0      1   \n",
       "2                             Heikkinen, Miss. Laina  female  26.0      0   \n",
       "3       Futrelle, Mrs. Jacques Heath (Lily May Peel)  female  35.0      1   \n",
       "4                           Allen, Mr. William Henry    male  35.0      0   \n",
       "\n",
       "   Parch            Ticket     Fare Cabin Embarked  \n",
       "0      0         A/5 21171   7.2500   NaN        S  \n",
       "1      0          PC 17599  71.2833   C85        C  \n",
       "2      0  STON/O2. 3101282   7.9250   NaN        S  \n",
       "3      0            113803  53.1000  C123        S  \n",
       "4      0            373450   8.0500   NaN        S  "
      ]
     },
     "execution_count": 30,
     "metadata": {},
     "output_type": "execute_result"
    }
   ],
   "source": [
    "df.head()"
   ]
  },
  {
   "cell_type": "markdown",
   "id": "cdca57ba-cd09-4aaa-8e8a-084b145c2282",
   "metadata": {
    "jp-MarkdownHeadingCollapsed": true
   },
   "source": [
    "### Display only the Columns"
   ]
  },
  {
   "cell_type": "code",
   "execution_count": 31,
   "id": "f2e3b8b0-8b1f-4ef2-842c-ff516010004f",
   "metadata": {},
   "outputs": [
    {
     "name": "stdout",
     "output_type": "stream",
     "text": [
      "Index(['PassengerId', 'Survived', 'Pclass', 'Name', 'Sex', 'Age', 'SibSp',\n",
      "       'Parch', 'Ticket', 'Fare', 'Cabin', 'Embarked'],\n",
      "      dtype='object')\n"
     ]
    }
   ],
   "source": [
    "print(df.columns)"
   ]
  },
  {
   "cell_type": "markdown",
   "id": "58552351-5079-434c-b8e7-d9cbe0a54071",
   "metadata": {
    "jp-MarkdownHeadingCollapsed": true
   },
   "source": [
    "### Filtrar por valor da coluna | Onde pclass == 1"
   ]
  },
  {
   "cell_type": "code",
   "execution_count": 32,
   "id": "f8bee10f-c754-4f9a-aa2e-f8b5ad51c931",
   "metadata": {},
   "outputs": [
    {
     "data": {
      "text/plain": [
       "0      False\n",
       "1       True\n",
       "2      False\n",
       "3       True\n",
       "4      False\n",
       "       ...  \n",
       "886    False\n",
       "887     True\n",
       "888    False\n",
       "889     True\n",
       "890    False\n",
       "Name: Pclass, Length: 891, dtype: bool"
      ]
     },
     "execution_count": 32,
     "metadata": {},
     "output_type": "execute_result"
    }
   ],
   "source": [
    "df[\"Pclass\"] == 1"
   ]
  },
  {
   "cell_type": "markdown",
   "id": "e660bcc2-7ae6-4b90-8659-f7edcc66e3ae",
   "metadata": {},
   "source": [
    "# UTILIZANDO DO SEABORN"
   ]
  },
  {
   "cell_type": "code",
   "execution_count": 42,
   "id": "ea889d3f-2bc6-4cff-a046-e9d187b032c5",
   "metadata": {},
   "outputs": [],
   "source": [
    "df = sns.load_dataset(\"titanic\")"
   ]
  },
  {
   "cell_type": "markdown",
   "id": "1a38a44a-2a10-4a48-99f8-5282a584a56e",
   "metadata": {
    "jp-MarkdownHeadingCollapsed": true
   },
   "source": [
    "### Dataframe Head - 5 Primeiras Linhas"
   ]
  },
  {
   "cell_type": "code",
   "execution_count": 60,
   "id": "833ac5bf-204f-42ef-a54a-2be0a609edc1",
   "metadata": {},
   "outputs": [
    {
     "name": "stdout",
     "output_type": "stream",
     "text": [
      "   survived  pclass     sex   age  sibsp  parch     fare embarked  class  \\\n",
      "0         0       3    male  22.0      1      0   7.2500        S  Third   \n",
      "1         1       1  female  38.0      1      0  71.2833        C  First   \n",
      "2         1       3  female  26.0      0      0   7.9250        S  Third   \n",
      "3         1       1  female  35.0      1      0  53.1000        S  First   \n",
      "4         0       3    male  35.0      0      0   8.0500        S  Third   \n",
      "\n",
      "     who  adult_male deck  embark_town alive  alone  \n",
      "0    man        True  NaN  Southampton    no  False  \n",
      "1  woman       False    C    Cherbourg   yes  False  \n",
      "2  woman       False  NaN  Southampton   yes   True  \n",
      "3  woman       False    C  Southampton   yes  False  \n",
      "4    man        True  NaN  Southampton    no   True  \n"
     ]
    }
   ],
   "source": [
    "print(df.head())"
   ]
  },
  {
   "cell_type": "markdown",
   "id": "74220c01-4cbe-49e7-b09a-cadcd241aaf0",
   "metadata": {
    "jp-MarkdownHeadingCollapsed": true
   },
   "source": [
    "### Dataframe Info"
   ]
  },
  {
   "cell_type": "code",
   "execution_count": 63,
   "id": "ee11eebb-2550-4dd4-8e9b-6c789e95543e",
   "metadata": {},
   "outputs": [
    {
     "data": {
      "text/plain": [
       "<bound method DataFrame.info of      survived  pclass     sex   age  sibsp  parch     fare embarked   class  \\\n",
       "0           0       3    male  22.0      1      0   7.2500        S   Third   \n",
       "1           1       1  female  38.0      1      0  71.2833        C   First   \n",
       "2           1       3  female  26.0      0      0   7.9250        S   Third   \n",
       "3           1       1  female  35.0      1      0  53.1000        S   First   \n",
       "4           0       3    male  35.0      0      0   8.0500        S   Third   \n",
       "..        ...     ...     ...   ...    ...    ...      ...      ...     ...   \n",
       "886         0       2    male  27.0      0      0  13.0000        S  Second   \n",
       "887         1       1  female  19.0      0      0  30.0000        S   First   \n",
       "888         0       3  female   NaN      1      2  23.4500        S   Third   \n",
       "889         1       1    male  26.0      0      0  30.0000        C   First   \n",
       "890         0       3    male  32.0      0      0   7.7500        Q   Third   \n",
       "\n",
       "       who  adult_male deck  embark_town alive  alone  \n",
       "0      man        True  NaN  Southampton    no  False  \n",
       "1    woman       False    C    Cherbourg   yes  False  \n",
       "2    woman       False  NaN  Southampton   yes   True  \n",
       "3    woman       False    C  Southampton   yes  False  \n",
       "4      man        True  NaN  Southampton    no   True  \n",
       "..     ...         ...  ...          ...   ...    ...  \n",
       "886    man        True  NaN  Southampton    no   True  \n",
       "887  woman       False    B  Southampton   yes   True  \n",
       "888  woman       False  NaN  Southampton    no  False  \n",
       "889    man        True    C    Cherbourg   yes   True  \n",
       "890    man        True  NaN   Queenstown    no   True  \n",
       "\n",
       "[891 rows x 15 columns]>"
      ]
     },
     "execution_count": 63,
     "metadata": {},
     "output_type": "execute_result"
    }
   ],
   "source": [
    "df.info"
   ]
  },
  {
   "cell_type": "markdown",
   "id": "73c3f6db-2fe6-41cc-8fe0-b7ed39d732f6",
   "metadata": {
    "jp-MarkdownHeadingCollapsed": true
   },
   "source": [
    "### Colunas do Datase"
   ]
  },
  {
   "cell_type": "code",
   "execution_count": 55,
   "id": "7d22839f-9030-4499-bfa5-251a281aaee8",
   "metadata": {},
   "outputs": [
    {
     "name": "stdout",
     "output_type": "stream",
     "text": [
      "Dataset Columns:\n",
      "- survived\n",
      "- pclass\n",
      "- sex\n",
      "- age\n",
      "- sibsp\n",
      "- parch\n",
      "- fare\n",
      "- embarked\n",
      "- class\n",
      "- who\n",
      "- adult_male\n",
      "- deck\n",
      "- embark_town\n",
      "- alive\n",
      "- alone\n"
     ]
    }
   ],
   "source": [
    "print(\"Dataset Columns:\")\n",
    "for col in df.columns:\n",
    "    print(f\"- {col}\")\n"
   ]
  },
  {
   "cell_type": "markdown",
   "id": "6f1a8e49-bbcc-4153-8b61-564d7c5df370",
   "metadata": {
    "jp-MarkdownHeadingCollapsed": true
   },
   "source": [
    "### Apenas passageiros da Primeira Classe"
   ]
  },
  {
   "cell_type": "code",
   "execution_count": 56,
   "id": "37e3dd2e-d6fd-423a-8d21-7ccd566dcead",
   "metadata": {},
   "outputs": [],
   "source": [
    "df_primeira_classe = df[df[\"pclass\"] == 1]"
   ]
  },
  {
   "cell_type": "code",
   "execution_count": 57,
   "id": "1f89264f-b756-4021-bde4-7f9b950c9207",
   "metadata": {},
   "outputs": [
    {
     "name": "stdout",
     "output_type": "stream",
     "text": [
      "     survived  pclass     sex   age  sibsp  parch     fare embarked  class  \\\n",
      "1           1       1  female  38.0      1      0  71.2833        C  First   \n",
      "3           1       1  female  35.0      1      0  53.1000        S  First   \n",
      "6           0       1    male  54.0      0      0  51.8625        S  First   \n",
      "11          1       1  female  58.0      0      0  26.5500        S  First   \n",
      "23          1       1    male  28.0      0      0  35.5000        S  First   \n",
      "..        ...     ...     ...   ...    ...    ...      ...      ...    ...   \n",
      "871         1       1  female  47.0      1      1  52.5542        S  First   \n",
      "872         0       1    male  33.0      0      0   5.0000        S  First   \n",
      "879         1       1  female  56.0      0      1  83.1583        C  First   \n",
      "887         1       1  female  19.0      0      0  30.0000        S  First   \n",
      "889         1       1    male  26.0      0      0  30.0000        C  First   \n",
      "\n",
      "       who  adult_male deck  embark_town alive  alone  \n",
      "1    woman       False    C    Cherbourg   yes  False  \n",
      "3    woman       False    C  Southampton   yes  False  \n",
      "6      man        True    E  Southampton    no   True  \n",
      "11   woman       False    C  Southampton   yes   True  \n",
      "23     man        True    A  Southampton   yes   True  \n",
      "..     ...         ...  ...          ...   ...    ...  \n",
      "871  woman       False    D  Southampton   yes  False  \n",
      "872    man        True    B  Southampton    no   True  \n",
      "879  woman       False    C    Cherbourg   yes  False  \n",
      "887  woman       False    B  Southampton   yes   True  \n",
      "889    man        True    C    Cherbourg   yes   True  \n",
      "\n",
      "[216 rows x 15 columns]\n"
     ]
    }
   ],
   "source": [
    "print(df_primeira_classe)"
   ]
  },
  {
   "cell_type": "markdown",
   "id": "8198d745-db6b-4efb-adfb-f8d982b9ecfa",
   "metadata": {
    "jp-MarkdownHeadingCollapsed": true
   },
   "source": [
    "### Qual é a idade média dos passageiros?"
   ]
  },
  {
   "cell_type": "code",
   "execution_count": 58,
   "id": "dd67feb3-1d27-4ced-aeef-9406bba4e0d4",
   "metadata": {},
   "outputs": [],
   "source": [
    "df_average_age = df[\"age\"].mean()"
   ]
  },
  {
   "cell_type": "code",
   "execution_count": 59,
   "id": "2fa52691-9bd1-4360-84c8-1cd61c768c6a",
   "metadata": {},
   "outputs": [
    {
     "name": "stdout",
     "output_type": "stream",
     "text": [
      "29.69911764705882\n"
     ]
    }
   ],
   "source": [
    "print(df_average_age)"
   ]
  },
  {
   "cell_type": "markdown",
   "id": "52d1d07c-a760-4237-9a6c-311f190c9efb",
   "metadata": {
    "jp-MarkdownHeadingCollapsed": true
   },
   "source": [
    "### Qual a tarifa média paga por cada classe de passageiros"
   ]
  },
  {
   "cell_type": "code",
   "execution_count": 65,
   "id": "bb2374f0-6df3-4c2f-a557-ac4c7fa29cfe",
   "metadata": {},
   "outputs": [],
   "source": [
    "df_average_fare_by_class = df.groupby(\"pclass\")[\"fare\"].mean()"
   ]
  },
  {
   "cell_type": "code",
   "execution_count": 66,
   "id": "44891f23-4d6c-4d3e-a59c-fd3daaebdb62",
   "metadata": {},
   "outputs": [
    {
     "name": "stdout",
     "output_type": "stream",
     "text": [
      "pclass\n",
      "1    84.154687\n",
      "2    20.662183\n",
      "3    13.675550\n",
      "Name: fare, dtype: float64\n"
     ]
    }
   ],
   "source": [
    "print(df_average_fare_by_class)"
   ]
  },
  {
   "cell_type": "markdown",
   "id": "21d38862-e76a-41b2-a19d-b33e4cf29bfa",
   "metadata": {
    "jp-MarkdownHeadingCollapsed": true
   },
   "source": [
    "### Tarifa média paga por passageiros da classe 1"
   ]
  },
  {
   "cell_type": "markdown",
   "id": "eab34695-f009-4d3b-8ebe-95d58c200075",
   "metadata": {},
   "source": [
    "print(df[df[\"pclass\"] == 1][\"fare\"].mean())"
   ]
  },
  {
   "cell_type": "markdown",
   "id": "102674c0-80fa-4e17-8a27-34a07d821d4b",
   "metadata": {
    "jp-MarkdownHeadingCollapsed": true
   },
   "source": [
    "### Tarifa média paga por passageiros da classe 2"
   ]
  },
  {
   "cell_type": "code",
   "execution_count": 75,
   "id": "7bb3f1c5-db99-424c-b54d-af1101f1b087",
   "metadata": {},
   "outputs": [
    {
     "name": "stdout",
     "output_type": "stream",
     "text": [
      "20.662183152173913\n"
     ]
    }
   ],
   "source": [
    "print(df[df[\"pclass\"] == 2][\"fare\"].mean())"
   ]
  },
  {
   "cell_type": "markdown",
   "id": "a9a3b72b-89e5-48cb-a114-63d1f1dd8558",
   "metadata": {
    "jp-MarkdownHeadingCollapsed": true
   },
   "source": [
    "### Tarifa média paga por passageiros da classe 3"
   ]
  },
  {
   "cell_type": "code",
   "execution_count": 76,
   "id": "5e9c7e72-b11c-4196-aac8-bb2017772ffb",
   "metadata": {},
   "outputs": [
    {
     "name": "stdout",
     "output_type": "stream",
     "text": [
      "13.675550101832993\n"
     ]
    }
   ],
   "source": [
    "print(df[df[\"pclass\"] == 3][\"fare\"].mean())"
   ]
  },
  {
   "cell_type": "markdown",
   "id": "0208ebfb-cf0e-472f-9b75-0a2ed514bb24",
   "metadata": {
    "jp-MarkdownHeadingCollapsed": true
   },
   "source": [
    "### Ordenando os Passageiros pela Idade | Mais Velho para Mais Novo"
   ]
  },
  {
   "cell_type": "code",
   "execution_count": 94,
   "id": "e773e478-c4b4-4bcd-89ed-06dd3e049f38",
   "metadata": {},
   "outputs": [],
   "source": [
    "df_ordenado_velho_para_novo = df.sort_values(by=\"age\", ascending=False).head(5)"
   ]
  },
  {
   "cell_type": "code",
   "execution_count": 95,
   "id": "18856ba2-f56f-4343-a930-b95ab392073b",
   "metadata": {},
   "outputs": [
    {
     "name": "stdout",
     "output_type": "stream",
     "text": [
      "     survived  pclass   sex   age  sibsp  parch     fare embarked  class  who  \\\n",
      "630         1       1  male  80.0      0      0  30.0000        S  First  man   \n",
      "851         0       3  male  74.0      0      0   7.7750        S  Third  man   \n",
      "493         0       1  male  71.0      0      0  49.5042        C  First  man   \n",
      "96          0       1  male  71.0      0      0  34.6542        C  First  man   \n",
      "116         0       3  male  70.5      0      0   7.7500        Q  Third  man   \n",
      "\n",
      "     adult_male deck  embark_town alive  alone  \n",
      "630        True    A  Southampton   yes   True  \n",
      "851        True  NaN  Southampton    no   True  \n",
      "493        True  NaN    Cherbourg    no   True  \n",
      "96         True    A    Cherbourg    no   True  \n",
      "116        True  NaN   Queenstown    no   True  \n"
     ]
    }
   ],
   "source": [
    "print(df_ordenado_velho_para_novo)"
   ]
  },
  {
   "cell_type": "markdown",
   "id": "0f3895c8-f204-4094-9597-40877f9054ea",
   "metadata": {
    "jp-MarkdownHeadingCollapsed": true
   },
   "source": [
    "### Cidade dos 5 Passageiros Mais Velhos"
   ]
  },
  {
   "cell_type": "code",
   "execution_count": 97,
   "id": "26ad24f8-e3f1-40ff-9853-1da3a0880631",
   "metadata": {},
   "outputs": [
    {
     "name": "stdout",
     "output_type": "stream",
     "text": [
      "630    Southampton\n",
      "851    Southampton\n",
      "493      Cherbourg\n",
      "96       Cherbourg\n",
      "116     Queenstown\n",
      "Name: embark_town, dtype: object\n"
     ]
    }
   ],
   "source": [
    "print(df_ordenado_velho_para_novo[\"embark_town\"])"
   ]
  },
  {
   "cell_type": "markdown",
   "id": "6dc388ed-29e2-4496-83c9-0c47a1ac847d",
   "metadata": {
    "jp-MarkdownHeadingCollapsed": true
   },
   "source": [
    "### Cidade dos 5 Passageiros Mais Velhos - Bullet List"
   ]
  },
  {
   "cell_type": "code",
   "execution_count": 98,
   "id": "d9fd507d-71bb-4903-af22-227725930a37",
   "metadata": {},
   "outputs": [
    {
     "name": "stdout",
     "output_type": "stream",
     "text": [
      "- Southampton\n",
      "- Southampton\n",
      "- Cherbourg\n",
      "- Cherbourg\n",
      "- Queenstown\n"
     ]
    }
   ],
   "source": [
    "for town in (df_ordenado_velho_para_novo[\"embark_town\"]):\n",
    "    print(f\"- {town}\")"
   ]
  },
  {
   "cell_type": "markdown",
   "id": "fe80788b-5358-4eaf-89d1-941583aacbfa",
   "metadata": {
    "jp-MarkdownHeadingCollapsed": true
   },
   "source": [
    "### Passageiros do Sexo Feminino na Terceira Classe"
   ]
  },
  {
   "cell_type": "code",
   "execution_count": 100,
   "id": "78e4d2a3-3d8b-4aab-b1ac-fc95f2ea193c",
   "metadata": {},
   "outputs": [],
   "source": [
    "df_female_thirdclass = df[(df[\"sex\"] == \"female\") & (df[\"pclass\"] == 3)]"
   ]
  },
  {
   "cell_type": "markdown",
   "id": "9bb796f5-439c-47be-9ca8-62de192586ce",
   "metadata": {
    "jp-MarkdownHeadingCollapsed": true
   },
   "source": [
    "#### Listagem dos Passageiros do Sexo Feminino na Terceira Classe"
   ]
  },
  {
   "cell_type": "code",
   "execution_count": 105,
   "id": "50c28791-4c21-4e8d-a77b-e84f95dd45d0",
   "metadata": {},
   "outputs": [
    {
     "name": "stdout",
     "output_type": "stream",
     "text": [
      "     survived  pclass     sex   age  sibsp  parch     fare embarked  class  \\\n",
      "2           1       3  female  26.0      0      0   7.9250        S  Third   \n",
      "8           1       3  female  27.0      0      2  11.1333        S  Third   \n",
      "10          1       3  female   4.0      1      1  16.7000        S  Third   \n",
      "14          0       3  female  14.0      0      0   7.8542        S  Third   \n",
      "18          0       3  female  31.0      1      0  18.0000        S  Third   \n",
      "..        ...     ...     ...   ...    ...    ...      ...      ...    ...   \n",
      "863         0       3  female   NaN      8      2  69.5500        S  Third   \n",
      "875         1       3  female  15.0      0      0   7.2250        C  Third   \n",
      "882         0       3  female  22.0      0      0  10.5167        S  Third   \n",
      "885         0       3  female  39.0      0      5  29.1250        Q  Third   \n",
      "888         0       3  female   NaN      1      2  23.4500        S  Third   \n",
      "\n",
      "       who  adult_male deck  embark_town alive  alone  \n",
      "2    woman       False  NaN  Southampton   yes   True  \n",
      "8    woman       False  NaN  Southampton   yes  False  \n",
      "10   child       False    G  Southampton   yes  False  \n",
      "14   child       False  NaN  Southampton    no   True  \n",
      "18   woman       False  NaN  Southampton    no  False  \n",
      "..     ...         ...  ...          ...   ...    ...  \n",
      "863  woman       False  NaN  Southampton    no  False  \n",
      "875  child       False  NaN    Cherbourg   yes   True  \n",
      "882  woman       False  NaN  Southampton    no   True  \n",
      "885  woman       False  NaN   Queenstown    no  False  \n",
      "888  woman       False  NaN  Southampton    no  False  \n",
      "\n",
      "[144 rows x 15 columns]\n"
     ]
    }
   ],
   "source": [
    "print(df_female_thirdclass)"
   ]
  },
  {
   "cell_type": "markdown",
   "id": "6dcbcaa2-ddb3-4a6e-8a80-1e3a49101e44",
   "metadata": {
    "jp-MarkdownHeadingCollapsed": true
   },
   "source": [
    "#### Total dos Passageiros do Sexo Feminino na Terceira Classe"
   ]
  },
  {
   "cell_type": "code",
   "execution_count": 107,
   "id": "04d79fd8-e023-42bd-9cc4-2c33176e7122",
   "metadata": {},
   "outputs": [
    {
     "name": "stdout",
     "output_type": "stream",
     "text": [
      "144\n"
     ]
    }
   ],
   "source": [
    "print(len(df_female_thirdclass))"
   ]
  },
  {
   "cell_type": "markdown",
   "id": "037647da-407b-4836-bfd1-bf8037cc534d",
   "metadata": {},
   "source": [
    "#### Total dos Passageiros do Sexo Feminino na Terceira Classe"
   ]
  },
  {
   "cell_type": "markdown",
   "id": "97cadc3d-8003-4ba5-9b6e-692947f2650a",
   "metadata": {
    "jp-MarkdownHeadingCollapsed": true
   },
   "source": [
    "### Colunas que contêm valores nulos"
   ]
  },
  {
   "cell_type": "code",
   "execution_count": null,
   "id": "4551ef4e-0967-4e58-a392-677d6295cf5c",
   "metadata": {},
   "outputs": [],
   "source": [
    "print"
   ]
  },
  {
   "cell_type": "code",
   "execution_count": 108,
   "id": "44f5882b-9e8f-4013-ba45-a4663332f90b",
   "metadata": {},
   "outputs": [
    {
     "name": "stdout",
     "output_type": "stream",
     "text": [
      "     survived  pclass    sex    age  sibsp  parch   fare  embarked  class  \\\n",
      "0       False   False  False  False  False  False  False     False  False   \n",
      "1       False   False  False  False  False  False  False     False  False   \n",
      "2       False   False  False  False  False  False  False     False  False   \n",
      "3       False   False  False  False  False  False  False     False  False   \n",
      "4       False   False  False  False  False  False  False     False  False   \n",
      "..        ...     ...    ...    ...    ...    ...    ...       ...    ...   \n",
      "886     False   False  False  False  False  False  False     False  False   \n",
      "887     False   False  False  False  False  False  False     False  False   \n",
      "888     False   False  False   True  False  False  False     False  False   \n",
      "889     False   False  False  False  False  False  False     False  False   \n",
      "890     False   False  False  False  False  False  False     False  False   \n",
      "\n",
      "       who  adult_male   deck  embark_town  alive  alone  \n",
      "0    False       False   True        False  False  False  \n",
      "1    False       False  False        False  False  False  \n",
      "2    False       False   True        False  False  False  \n",
      "3    False       False  False        False  False  False  \n",
      "4    False       False   True        False  False  False  \n",
      "..     ...         ...    ...          ...    ...    ...  \n",
      "886  False       False   True        False  False  False  \n",
      "887  False       False  False        False  False  False  \n",
      "888  False       False   True        False  False  False  \n",
      "889  False       False  False        False  False  False  \n",
      "890  False       False   True        False  False  False  \n",
      "\n",
      "[891 rows x 15 columns]\n"
     ]
    }
   ],
   "source": [
    "print(df.isnull())"
   ]
  },
  {
   "cell_type": "markdown",
   "id": "dc85480a-001b-40da-a0f5-159306f5db7c",
   "metadata": {
    "jp-MarkdownHeadingCollapsed": true
   },
   "source": [
    "#### Quantidade de Valores Nulos por Coluna"
   ]
  },
  {
   "cell_type": "code",
   "execution_count": 139,
   "id": "f6741735-ab81-44c0-a310-7758c313f1a1",
   "metadata": {},
   "outputs": [
    {
     "name": "stdout",
     "output_type": "stream",
     "text": [
      "survived         0\n",
      "pclass           0\n",
      "sex              0\n",
      "age              0\n",
      "sibsp            0\n",
      "parch            0\n",
      "fare             0\n",
      "embarked         2\n",
      "class            0\n",
      "who              0\n",
      "adult_male       0\n",
      "deck           688\n",
      "embark_town      2\n",
      "alive            0\n",
      "alone            0\n",
      "dtype: int64\n"
     ]
    }
   ],
   "source": [
    "print(df.isnull().sum())"
   ]
  },
  {
   "cell_type": "markdown",
   "id": "63f30e6b-04cb-4d9f-b43c-94965c4b88dd",
   "metadata": {
    "jp-MarkdownHeadingCollapsed": true
   },
   "source": [
    "### Quantidade de Valores Nulos por Coluna | Utilizando Iteração com formatação de Lista"
   ]
  },
  {
   "cell_type": "code",
   "execution_count": 140,
   "id": "a8c22c52-12db-4739-8ae0-3a58c3ce8b0c",
   "metadata": {},
   "outputs": [
    {
     "name": "stdout",
     "output_type": "stream",
     "text": [
      "survived | 0\n",
      "pclass | 0\n",
      "sex | 0\n",
      "age | 0\n",
      "sibsp | 0\n",
      "parch | 0\n",
      "fare | 0\n",
      "embarked | 2\n",
      "class | 0\n",
      "who | 0\n",
      "adult_male | 0\n",
      "deck | 688\n",
      "embark_town | 2\n",
      "alive | 0\n",
      "alone | 0\n"
     ]
    }
   ],
   "source": [
    "for coluna, nulos in list(df.isnull().sum().items()):\n",
    "    print(f\"{coluna} | {nulos}\")"
   ]
  },
  {
   "cell_type": "markdown",
   "id": "e9b37edd-3950-4c92-9c02-de928624ae92",
   "metadata": {
    "jp-MarkdownHeadingCollapsed": true
   },
   "source": [
    "### Definindo a Média de Idade nos Valores Nulos do DataFrame"
   ]
  },
  {
   "cell_type": "code",
   "execution_count": 141,
   "id": "519d7a12-95ca-4711-8bb8-0cc0fee19d42",
   "metadata": {},
   "outputs": [],
   "source": [
    "df[\"age\"] = df[\"age\"].fillna(df[\"age\"].mean())"
   ]
  },
  {
   "cell_type": "code",
   "execution_count": 137,
   "id": "dbd5e47f-9b93-44a8-ac87-94929eba92fa",
   "metadata": {},
   "outputs": [
    {
     "name": "stdout",
     "output_type": "stream",
     "text": [
      "1 | 22.0\n",
      "2 | 38.0\n",
      "3 | 26.0\n",
      "4 | 35.0\n",
      "5 | 35.0\n",
      "6 | 29.69911764705882\n",
      "7 | 54.0\n",
      "8 | 2.0\n",
      "9 | 27.0\n",
      "10 | 14.0\n",
      "11 | 4.0\n",
      "12 | 58.0\n",
      "13 | 20.0\n",
      "14 | 39.0\n",
      "15 | 14.0\n",
      "16 | 55.0\n",
      "17 | 2.0\n",
      "18 | 29.69911764705882\n",
      "19 | 31.0\n",
      "20 | 29.69911764705882\n",
      "21 | 35.0\n",
      "22 | 34.0\n",
      "23 | 15.0\n",
      "24 | 28.0\n",
      "25 | 8.0\n",
      "26 | 38.0\n",
      "27 | 29.69911764705882\n",
      "28 | 19.0\n",
      "29 | 29.69911764705882\n",
      "30 | 29.69911764705882\n",
      "31 | 40.0\n",
      "32 | 29.69911764705882\n",
      "33 | 29.69911764705882\n",
      "34 | 66.0\n",
      "35 | 28.0\n",
      "36 | 42.0\n",
      "37 | 29.69911764705882\n",
      "38 | 21.0\n",
      "39 | 18.0\n",
      "40 | 14.0\n",
      "41 | 40.0\n",
      "42 | 27.0\n",
      "43 | 29.69911764705882\n",
      "44 | 3.0\n",
      "45 | 19.0\n",
      "46 | 29.69911764705882\n",
      "47 | 29.69911764705882\n",
      "48 | 29.69911764705882\n",
      "49 | 29.69911764705882\n",
      "50 | 18.0\n",
      "51 | 7.0\n",
      "52 | 21.0\n",
      "53 | 49.0\n",
      "54 | 29.0\n",
      "55 | 65.0\n",
      "56 | 29.69911764705882\n",
      "57 | 21.0\n",
      "58 | 28.5\n",
      "59 | 5.0\n",
      "60 | 11.0\n",
      "61 | 22.0\n",
      "62 | 38.0\n",
      "63 | 45.0\n",
      "64 | 4.0\n",
      "65 | 29.69911764705882\n",
      "66 | 29.69911764705882\n",
      "67 | 29.0\n",
      "68 | 19.0\n",
      "69 | 17.0\n",
      "70 | 26.0\n",
      "71 | 32.0\n",
      "72 | 16.0\n",
      "73 | 21.0\n",
      "74 | 26.0\n",
      "75 | 32.0\n",
      "76 | 25.0\n",
      "77 | 29.69911764705882\n",
      "78 | 29.69911764705882\n",
      "79 | 0.83\n",
      "80 | 30.0\n",
      "81 | 22.0\n",
      "82 | 29.0\n",
      "83 | 29.69911764705882\n",
      "84 | 28.0\n",
      "85 | 17.0\n",
      "86 | 33.0\n",
      "87 | 16.0\n",
      "88 | 29.69911764705882\n",
      "89 | 23.0\n",
      "90 | 24.0\n",
      "91 | 29.0\n",
      "92 | 20.0\n",
      "93 | 46.0\n",
      "94 | 26.0\n",
      "95 | 59.0\n",
      "96 | 29.69911764705882\n",
      "97 | 71.0\n",
      "98 | 23.0\n",
      "99 | 34.0\n",
      "100 | 34.0\n",
      "101 | 28.0\n",
      "102 | 29.69911764705882\n",
      "103 | 21.0\n",
      "104 | 33.0\n",
      "105 | 37.0\n",
      "106 | 28.0\n",
      "107 | 21.0\n",
      "108 | 29.69911764705882\n",
      "109 | 38.0\n",
      "110 | 29.69911764705882\n",
      "111 | 47.0\n",
      "112 | 14.5\n",
      "113 | 22.0\n",
      "114 | 20.0\n",
      "115 | 17.0\n",
      "116 | 21.0\n",
      "117 | 70.5\n",
      "118 | 29.0\n",
      "119 | 24.0\n",
      "120 | 2.0\n",
      "121 | 21.0\n",
      "122 | 29.69911764705882\n",
      "123 | 32.5\n",
      "124 | 32.5\n",
      "125 | 54.0\n",
      "126 | 12.0\n",
      "127 | 29.69911764705882\n",
      "128 | 24.0\n",
      "129 | 29.69911764705882\n",
      "130 | 45.0\n",
      "131 | 33.0\n",
      "132 | 20.0\n",
      "133 | 47.0\n",
      "134 | 29.0\n",
      "135 | 25.0\n",
      "136 | 23.0\n",
      "137 | 19.0\n",
      "138 | 37.0\n",
      "139 | 16.0\n",
      "140 | 24.0\n",
      "141 | 29.69911764705882\n",
      "142 | 22.0\n",
      "143 | 24.0\n",
      "144 | 19.0\n",
      "145 | 18.0\n",
      "146 | 19.0\n",
      "147 | 27.0\n",
      "148 | 9.0\n",
      "149 | 36.5\n",
      "150 | 42.0\n",
      "151 | 51.0\n",
      "152 | 22.0\n",
      "153 | 55.5\n",
      "154 | 40.5\n",
      "155 | 29.69911764705882\n",
      "156 | 51.0\n",
      "157 | 16.0\n",
      "158 | 30.0\n",
      "159 | 29.69911764705882\n",
      "160 | 29.69911764705882\n",
      "161 | 44.0\n",
      "162 | 40.0\n",
      "163 | 26.0\n",
      "164 | 17.0\n",
      "165 | 1.0\n",
      "166 | 9.0\n",
      "167 | 29.69911764705882\n",
      "168 | 45.0\n",
      "169 | 29.69911764705882\n",
      "170 | 28.0\n",
      "171 | 61.0\n",
      "172 | 4.0\n",
      "173 | 1.0\n",
      "174 | 21.0\n",
      "175 | 56.0\n",
      "176 | 18.0\n",
      "177 | 29.69911764705882\n",
      "178 | 50.0\n",
      "179 | 30.0\n",
      "180 | 36.0\n",
      "181 | 29.69911764705882\n",
      "182 | 29.69911764705882\n",
      "183 | 9.0\n",
      "184 | 1.0\n",
      "185 | 4.0\n",
      "186 | 29.69911764705882\n",
      "187 | 29.69911764705882\n",
      "188 | 45.0\n",
      "189 | 40.0\n",
      "190 | 36.0\n",
      "191 | 32.0\n",
      "192 | 19.0\n",
      "193 | 19.0\n",
      "194 | 3.0\n",
      "195 | 44.0\n",
      "196 | 58.0\n",
      "197 | 29.69911764705882\n",
      "198 | 42.0\n",
      "199 | 29.69911764705882\n",
      "200 | 24.0\n",
      "201 | 28.0\n",
      "202 | 29.69911764705882\n",
      "203 | 34.0\n",
      "204 | 45.5\n",
      "205 | 18.0\n",
      "206 | 2.0\n",
      "207 | 32.0\n",
      "208 | 26.0\n",
      "209 | 16.0\n",
      "210 | 40.0\n",
      "211 | 24.0\n",
      "212 | 35.0\n",
      "213 | 22.0\n",
      "214 | 30.0\n",
      "215 | 29.69911764705882\n",
      "216 | 31.0\n",
      "217 | 27.0\n",
      "218 | 42.0\n",
      "219 | 32.0\n",
      "220 | 30.0\n",
      "221 | 16.0\n",
      "222 | 27.0\n",
      "223 | 51.0\n",
      "224 | 29.69911764705882\n",
      "225 | 38.0\n",
      "226 | 22.0\n",
      "227 | 19.0\n",
      "228 | 20.5\n",
      "229 | 18.0\n",
      "230 | 29.69911764705882\n",
      "231 | 35.0\n",
      "232 | 29.0\n",
      "233 | 59.0\n",
      "234 | 5.0\n",
      "235 | 24.0\n",
      "236 | 29.69911764705882\n",
      "237 | 44.0\n",
      "238 | 8.0\n",
      "239 | 19.0\n",
      "240 | 33.0\n",
      "241 | 29.69911764705882\n",
      "242 | 29.69911764705882\n",
      "243 | 29.0\n",
      "244 | 22.0\n",
      "245 | 30.0\n",
      "246 | 44.0\n",
      "247 | 25.0\n",
      "248 | 24.0\n",
      "249 | 37.0\n",
      "250 | 54.0\n",
      "251 | 29.69911764705882\n",
      "252 | 29.0\n",
      "253 | 62.0\n",
      "254 | 30.0\n",
      "255 | 41.0\n",
      "256 | 29.0\n",
      "257 | 29.69911764705882\n",
      "258 | 30.0\n",
      "259 | 35.0\n",
      "260 | 50.0\n",
      "261 | 29.69911764705882\n",
      "262 | 3.0\n",
      "263 | 52.0\n",
      "264 | 40.0\n",
      "265 | 29.69911764705882\n",
      "266 | 36.0\n",
      "267 | 16.0\n",
      "268 | 25.0\n",
      "269 | 58.0\n",
      "270 | 35.0\n",
      "271 | 29.69911764705882\n",
      "272 | 25.0\n",
      "273 | 41.0\n",
      "274 | 37.0\n",
      "275 | 29.69911764705882\n",
      "276 | 63.0\n",
      "277 | 45.0\n",
      "278 | 29.69911764705882\n",
      "279 | 7.0\n",
      "280 | 35.0\n",
      "281 | 65.0\n",
      "282 | 28.0\n",
      "283 | 16.0\n",
      "284 | 19.0\n",
      "285 | 29.69911764705882\n",
      "286 | 33.0\n",
      "287 | 30.0\n",
      "288 | 22.0\n",
      "289 | 42.0\n",
      "290 | 22.0\n",
      "291 | 26.0\n",
      "292 | 19.0\n",
      "293 | 36.0\n",
      "294 | 24.0\n",
      "295 | 24.0\n",
      "296 | 29.69911764705882\n",
      "297 | 23.5\n",
      "298 | 2.0\n",
      "299 | 29.69911764705882\n",
      "300 | 50.0\n",
      "301 | 29.69911764705882\n",
      "302 | 29.69911764705882\n",
      "303 | 19.0\n",
      "304 | 29.69911764705882\n",
      "305 | 29.69911764705882\n",
      "306 | 0.92\n",
      "307 | 29.69911764705882\n",
      "308 | 17.0\n",
      "309 | 30.0\n",
      "310 | 30.0\n",
      "311 | 24.0\n",
      "312 | 18.0\n",
      "313 | 26.0\n",
      "314 | 28.0\n",
      "315 | 43.0\n",
      "316 | 26.0\n",
      "317 | 24.0\n",
      "318 | 54.0\n",
      "319 | 31.0\n",
      "320 | 40.0\n",
      "321 | 22.0\n",
      "322 | 27.0\n",
      "323 | 30.0\n",
      "324 | 22.0\n",
      "325 | 29.69911764705882\n",
      "326 | 36.0\n",
      "327 | 61.0\n",
      "328 | 36.0\n",
      "329 | 31.0\n",
      "330 | 16.0\n",
      "331 | 29.69911764705882\n",
      "332 | 45.5\n",
      "333 | 38.0\n",
      "334 | 16.0\n",
      "335 | 29.69911764705882\n",
      "336 | 29.69911764705882\n",
      "337 | 29.0\n",
      "338 | 41.0\n",
      "339 | 45.0\n",
      "340 | 45.0\n",
      "341 | 2.0\n",
      "342 | 24.0\n",
      "343 | 28.0\n",
      "344 | 25.0\n",
      "345 | 36.0\n",
      "346 | 24.0\n",
      "347 | 40.0\n",
      "348 | 29.69911764705882\n",
      "349 | 3.0\n",
      "350 | 42.0\n",
      "351 | 23.0\n",
      "352 | 29.69911764705882\n",
      "353 | 15.0\n",
      "354 | 25.0\n",
      "355 | 29.69911764705882\n",
      "356 | 28.0\n",
      "357 | 22.0\n",
      "358 | 38.0\n",
      "359 | 29.69911764705882\n",
      "360 | 29.69911764705882\n",
      "361 | 40.0\n",
      "362 | 29.0\n",
      "363 | 45.0\n",
      "364 | 35.0\n",
      "365 | 29.69911764705882\n",
      "366 | 30.0\n",
      "367 | 60.0\n",
      "368 | 29.69911764705882\n",
      "369 | 29.69911764705882\n",
      "370 | 24.0\n",
      "371 | 25.0\n",
      "372 | 18.0\n",
      "373 | 19.0\n",
      "374 | 22.0\n",
      "375 | 3.0\n",
      "376 | 29.69911764705882\n",
      "377 | 22.0\n",
      "378 | 27.0\n",
      "379 | 20.0\n",
      "380 | 19.0\n",
      "381 | 42.0\n",
      "382 | 1.0\n",
      "383 | 32.0\n",
      "384 | 35.0\n",
      "385 | 29.69911764705882\n",
      "386 | 18.0\n",
      "387 | 1.0\n",
      "388 | 36.0\n",
      "389 | 29.69911764705882\n",
      "390 | 17.0\n",
      "391 | 36.0\n",
      "392 | 21.0\n",
      "393 | 28.0\n",
      "394 | 23.0\n",
      "395 | 24.0\n",
      "396 | 22.0\n",
      "397 | 31.0\n",
      "398 | 46.0\n",
      "399 | 23.0\n",
      "400 | 28.0\n",
      "401 | 39.0\n",
      "402 | 26.0\n",
      "403 | 21.0\n",
      "404 | 28.0\n",
      "405 | 20.0\n",
      "406 | 34.0\n",
      "407 | 51.0\n",
      "408 | 3.0\n",
      "409 | 21.0\n",
      "410 | 29.69911764705882\n",
      "411 | 29.69911764705882\n",
      "412 | 29.69911764705882\n",
      "413 | 33.0\n",
      "414 | 29.69911764705882\n",
      "415 | 44.0\n",
      "416 | 29.69911764705882\n",
      "417 | 34.0\n",
      "418 | 18.0\n",
      "419 | 30.0\n",
      "420 | 10.0\n",
      "421 | 29.69911764705882\n",
      "422 | 21.0\n",
      "423 | 29.0\n",
      "424 | 28.0\n",
      "425 | 18.0\n",
      "426 | 29.69911764705882\n",
      "427 | 28.0\n",
      "428 | 19.0\n",
      "429 | 29.69911764705882\n",
      "430 | 32.0\n",
      "431 | 28.0\n",
      "432 | 29.69911764705882\n",
      "433 | 42.0\n",
      "434 | 17.0\n",
      "435 | 50.0\n",
      "436 | 14.0\n",
      "437 | 21.0\n",
      "438 | 24.0\n",
      "439 | 64.0\n",
      "440 | 31.0\n",
      "441 | 45.0\n",
      "442 | 20.0\n",
      "443 | 25.0\n",
      "444 | 28.0\n",
      "445 | 29.69911764705882\n",
      "446 | 4.0\n",
      "447 | 13.0\n",
      "448 | 34.0\n",
      "449 | 5.0\n",
      "450 | 52.0\n",
      "451 | 36.0\n",
      "452 | 29.69911764705882\n",
      "453 | 30.0\n",
      "454 | 49.0\n",
      "455 | 29.69911764705882\n",
      "456 | 29.0\n",
      "457 | 65.0\n",
      "458 | 29.69911764705882\n",
      "459 | 50.0\n",
      "460 | 29.69911764705882\n",
      "461 | 48.0\n",
      "462 | 34.0\n",
      "463 | 47.0\n",
      "464 | 48.0\n",
      "465 | 29.69911764705882\n",
      "466 | 38.0\n",
      "467 | 29.69911764705882\n",
      "468 | 56.0\n",
      "469 | 29.69911764705882\n",
      "470 | 0.75\n",
      "471 | 29.69911764705882\n",
      "472 | 38.0\n",
      "473 | 33.0\n",
      "474 | 23.0\n",
      "475 | 22.0\n",
      "476 | 29.69911764705882\n",
      "477 | 34.0\n",
      "478 | 29.0\n",
      "479 | 22.0\n",
      "480 | 2.0\n",
      "481 | 9.0\n",
      "482 | 29.69911764705882\n",
      "483 | 50.0\n",
      "484 | 63.0\n",
      "485 | 25.0\n",
      "486 | 29.69911764705882\n",
      "487 | 35.0\n",
      "488 | 58.0\n",
      "489 | 30.0\n",
      "490 | 9.0\n",
      "491 | 29.69911764705882\n",
      "492 | 21.0\n",
      "493 | 55.0\n",
      "494 | 71.0\n",
      "495 | 21.0\n",
      "496 | 29.69911764705882\n",
      "497 | 54.0\n",
      "498 | 29.69911764705882\n",
      "499 | 25.0\n",
      "500 | 24.0\n",
      "501 | 17.0\n",
      "502 | 21.0\n",
      "503 | 29.69911764705882\n",
      "504 | 37.0\n",
      "505 | 16.0\n",
      "506 | 18.0\n",
      "507 | 33.0\n",
      "508 | 29.69911764705882\n",
      "509 | 28.0\n",
      "510 | 26.0\n",
      "511 | 29.0\n",
      "512 | 29.69911764705882\n",
      "513 | 36.0\n",
      "514 | 54.0\n",
      "515 | 24.0\n",
      "516 | 47.0\n",
      "517 | 34.0\n",
      "518 | 29.69911764705882\n",
      "519 | 36.0\n",
      "520 | 32.0\n",
      "521 | 30.0\n",
      "522 | 22.0\n",
      "523 | 29.69911764705882\n",
      "524 | 44.0\n",
      "525 | 29.69911764705882\n",
      "526 | 40.5\n",
      "527 | 50.0\n",
      "528 | 29.69911764705882\n",
      "529 | 39.0\n",
      "530 | 23.0\n",
      "531 | 2.0\n",
      "532 | 29.69911764705882\n",
      "533 | 17.0\n",
      "534 | 29.69911764705882\n",
      "535 | 30.0\n",
      "536 | 7.0\n",
      "537 | 45.0\n",
      "538 | 30.0\n",
      "539 | 29.69911764705882\n",
      "540 | 22.0\n",
      "541 | 36.0\n",
      "542 | 9.0\n",
      "543 | 11.0\n",
      "544 | 32.0\n",
      "545 | 50.0\n",
      "546 | 64.0\n",
      "547 | 19.0\n",
      "548 | 29.69911764705882\n",
      "549 | 33.0\n",
      "550 | 8.0\n",
      "551 | 17.0\n",
      "552 | 27.0\n",
      "553 | 29.69911764705882\n",
      "554 | 22.0\n",
      "555 | 22.0\n",
      "556 | 62.0\n",
      "557 | 48.0\n",
      "558 | 29.69911764705882\n",
      "559 | 39.0\n",
      "560 | 36.0\n",
      "561 | 29.69911764705882\n",
      "562 | 40.0\n",
      "563 | 28.0\n",
      "564 | 29.69911764705882\n",
      "565 | 29.69911764705882\n",
      "566 | 24.0\n",
      "567 | 19.0\n",
      "568 | 29.0\n",
      "569 | 29.69911764705882\n",
      "570 | 32.0\n",
      "571 | 62.0\n",
      "572 | 53.0\n",
      "573 | 36.0\n",
      "574 | 29.69911764705882\n",
      "575 | 16.0\n",
      "576 | 19.0\n",
      "577 | 34.0\n",
      "578 | 39.0\n",
      "579 | 29.69911764705882\n",
      "580 | 32.0\n",
      "581 | 25.0\n",
      "582 | 39.0\n",
      "583 | 54.0\n",
      "584 | 36.0\n",
      "585 | 29.69911764705882\n",
      "586 | 18.0\n",
      "587 | 47.0\n",
      "588 | 60.0\n",
      "589 | 22.0\n",
      "590 | 29.69911764705882\n",
      "591 | 35.0\n",
      "592 | 52.0\n",
      "593 | 47.0\n",
      "594 | 29.69911764705882\n",
      "595 | 37.0\n",
      "596 | 36.0\n",
      "597 | 29.69911764705882\n",
      "598 | 49.0\n",
      "599 | 29.69911764705882\n",
      "600 | 49.0\n",
      "601 | 24.0\n",
      "602 | 29.69911764705882\n",
      "603 | 29.69911764705882\n",
      "604 | 44.0\n",
      "605 | 35.0\n",
      "606 | 36.0\n",
      "607 | 30.0\n",
      "608 | 27.0\n",
      "609 | 22.0\n",
      "610 | 40.0\n",
      "611 | 39.0\n",
      "612 | 29.69911764705882\n",
      "613 | 29.69911764705882\n",
      "614 | 29.69911764705882\n",
      "615 | 35.0\n",
      "616 | 24.0\n",
      "617 | 34.0\n",
      "618 | 26.0\n",
      "619 | 4.0\n",
      "620 | 26.0\n",
      "621 | 27.0\n",
      "622 | 42.0\n",
      "623 | 20.0\n",
      "624 | 21.0\n",
      "625 | 21.0\n",
      "626 | 61.0\n",
      "627 | 57.0\n",
      "628 | 21.0\n",
      "629 | 26.0\n",
      "630 | 29.69911764705882\n",
      "631 | 80.0\n",
      "632 | 51.0\n",
      "633 | 32.0\n",
      "634 | 29.69911764705882\n",
      "635 | 9.0\n",
      "636 | 28.0\n",
      "637 | 32.0\n",
      "638 | 31.0\n",
      "639 | 41.0\n",
      "640 | 29.69911764705882\n",
      "641 | 20.0\n",
      "642 | 24.0\n",
      "643 | 2.0\n",
      "644 | 29.69911764705882\n",
      "645 | 0.75\n",
      "646 | 48.0\n",
      "647 | 19.0\n",
      "648 | 56.0\n",
      "649 | 29.69911764705882\n",
      "650 | 23.0\n",
      "651 | 29.69911764705882\n",
      "652 | 18.0\n",
      "653 | 21.0\n",
      "654 | 29.69911764705882\n",
      "655 | 18.0\n",
      "656 | 24.0\n",
      "657 | 29.69911764705882\n",
      "658 | 32.0\n",
      "659 | 23.0\n",
      "660 | 58.0\n",
      "661 | 50.0\n",
      "662 | 40.0\n",
      "663 | 47.0\n",
      "664 | 36.0\n",
      "665 | 20.0\n",
      "666 | 32.0\n",
      "667 | 25.0\n",
      "668 | 29.69911764705882\n",
      "669 | 43.0\n",
      "670 | 29.69911764705882\n",
      "671 | 40.0\n",
      "672 | 31.0\n",
      "673 | 70.0\n",
      "674 | 31.0\n",
      "675 | 29.69911764705882\n",
      "676 | 18.0\n",
      "677 | 24.5\n",
      "678 | 18.0\n",
      "679 | 43.0\n",
      "680 | 36.0\n",
      "681 | 29.69911764705882\n",
      "682 | 27.0\n",
      "683 | 20.0\n",
      "684 | 14.0\n",
      "685 | 60.0\n",
      "686 | 25.0\n",
      "687 | 14.0\n",
      "688 | 19.0\n",
      "689 | 18.0\n",
      "690 | 15.0\n",
      "691 | 31.0\n",
      "692 | 4.0\n",
      "693 | 29.69911764705882\n",
      "694 | 25.0\n",
      "695 | 60.0\n",
      "696 | 52.0\n",
      "697 | 44.0\n",
      "698 | 29.69911764705882\n",
      "699 | 49.0\n",
      "700 | 42.0\n",
      "701 | 18.0\n",
      "702 | 35.0\n",
      "703 | 18.0\n",
      "704 | 25.0\n",
      "705 | 26.0\n",
      "706 | 39.0\n",
      "707 | 45.0\n",
      "708 | 42.0\n",
      "709 | 22.0\n",
      "710 | 29.69911764705882\n",
      "711 | 24.0\n",
      "712 | 29.69911764705882\n",
      "713 | 48.0\n",
      "714 | 29.0\n",
      "715 | 52.0\n",
      "716 | 19.0\n",
      "717 | 38.0\n",
      "718 | 27.0\n",
      "719 | 29.69911764705882\n",
      "720 | 33.0\n",
      "721 | 6.0\n",
      "722 | 17.0\n",
      "723 | 34.0\n",
      "724 | 50.0\n",
      "725 | 27.0\n",
      "726 | 20.0\n",
      "727 | 30.0\n",
      "728 | 29.69911764705882\n",
      "729 | 25.0\n",
      "730 | 25.0\n",
      "731 | 29.0\n",
      "732 | 11.0\n",
      "733 | 29.69911764705882\n",
      "734 | 23.0\n",
      "735 | 23.0\n",
      "736 | 28.5\n",
      "737 | 48.0\n",
      "738 | 35.0\n",
      "739 | 29.69911764705882\n",
      "740 | 29.69911764705882\n",
      "741 | 29.69911764705882\n",
      "742 | 36.0\n",
      "743 | 21.0\n",
      "744 | 24.0\n",
      "745 | 31.0\n",
      "746 | 70.0\n",
      "747 | 16.0\n",
      "748 | 30.0\n",
      "749 | 19.0\n",
      "750 | 31.0\n",
      "751 | 4.0\n",
      "752 | 6.0\n",
      "753 | 33.0\n",
      "754 | 23.0\n",
      "755 | 48.0\n",
      "756 | 0.67\n",
      "757 | 28.0\n",
      "758 | 18.0\n",
      "759 | 34.0\n",
      "760 | 33.0\n",
      "761 | 29.69911764705882\n",
      "762 | 41.0\n",
      "763 | 20.0\n",
      "764 | 36.0\n",
      "765 | 16.0\n",
      "766 | 51.0\n",
      "767 | 29.69911764705882\n",
      "768 | 30.5\n",
      "769 | 29.69911764705882\n",
      "770 | 32.0\n",
      "771 | 24.0\n",
      "772 | 48.0\n",
      "773 | 57.0\n",
      "774 | 29.69911764705882\n",
      "775 | 54.0\n",
      "776 | 18.0\n",
      "777 | 29.69911764705882\n",
      "778 | 5.0\n",
      "779 | 29.69911764705882\n",
      "780 | 43.0\n",
      "781 | 13.0\n",
      "782 | 17.0\n",
      "783 | 29.0\n",
      "784 | 29.69911764705882\n",
      "785 | 25.0\n",
      "786 | 25.0\n",
      "787 | 18.0\n",
      "788 | 8.0\n",
      "789 | 1.0\n",
      "790 | 46.0\n",
      "791 | 29.69911764705882\n",
      "792 | 16.0\n",
      "793 | 29.69911764705882\n",
      "794 | 29.69911764705882\n",
      "795 | 25.0\n",
      "796 | 39.0\n",
      "797 | 49.0\n",
      "798 | 31.0\n",
      "799 | 30.0\n",
      "800 | 30.0\n",
      "801 | 34.0\n",
      "802 | 31.0\n",
      "803 | 11.0\n",
      "804 | 0.42\n",
      "805 | 27.0\n",
      "806 | 31.0\n",
      "807 | 39.0\n",
      "808 | 18.0\n",
      "809 | 39.0\n",
      "810 | 33.0\n",
      "811 | 26.0\n",
      "812 | 39.0\n",
      "813 | 35.0\n",
      "814 | 6.0\n",
      "815 | 30.5\n",
      "816 | 29.69911764705882\n",
      "817 | 23.0\n",
      "818 | 31.0\n",
      "819 | 43.0\n",
      "820 | 10.0\n",
      "821 | 52.0\n",
      "822 | 27.0\n",
      "823 | 38.0\n",
      "824 | 27.0\n",
      "825 | 2.0\n",
      "826 | 29.69911764705882\n",
      "827 | 29.69911764705882\n",
      "828 | 1.0\n",
      "829 | 29.69911764705882\n",
      "830 | 62.0\n",
      "831 | 15.0\n",
      "832 | 0.83\n",
      "833 | 29.69911764705882\n",
      "834 | 23.0\n",
      "835 | 18.0\n",
      "836 | 39.0\n",
      "837 | 21.0\n",
      "838 | 29.69911764705882\n",
      "839 | 32.0\n",
      "840 | 29.69911764705882\n",
      "841 | 20.0\n",
      "842 | 16.0\n",
      "843 | 30.0\n",
      "844 | 34.5\n",
      "845 | 17.0\n",
      "846 | 42.0\n",
      "847 | 29.69911764705882\n",
      "848 | 35.0\n",
      "849 | 28.0\n",
      "850 | 29.69911764705882\n",
      "851 | 4.0\n",
      "852 | 74.0\n",
      "853 | 9.0\n",
      "854 | 16.0\n",
      "855 | 44.0\n",
      "856 | 18.0\n",
      "857 | 45.0\n",
      "858 | 51.0\n",
      "859 | 24.0\n",
      "860 | 29.69911764705882\n",
      "861 | 41.0\n",
      "862 | 21.0\n",
      "863 | 48.0\n",
      "864 | 29.69911764705882\n",
      "865 | 24.0\n",
      "866 | 42.0\n",
      "867 | 27.0\n",
      "868 | 31.0\n",
      "869 | 29.69911764705882\n",
      "870 | 4.0\n",
      "871 | 26.0\n",
      "872 | 47.0\n",
      "873 | 33.0\n",
      "874 | 47.0\n",
      "875 | 28.0\n",
      "876 | 15.0\n",
      "877 | 20.0\n",
      "878 | 19.0\n",
      "879 | 29.69911764705882\n",
      "880 | 56.0\n",
      "881 | 25.0\n",
      "882 | 33.0\n",
      "883 | 22.0\n",
      "884 | 28.0\n",
      "885 | 25.0\n",
      "886 | 39.0\n",
      "887 | 27.0\n",
      "888 | 19.0\n",
      "889 | 29.69911764705882\n",
      "890 | 26.0\n",
      "891 | 32.0\n"
     ]
    }
   ],
   "source": [
    "for index, age in enumerate(df[\"age\"], start=1):\n",
    "    print(f\"{index} | {age}\")"
   ]
  },
  {
   "cell_type": "markdown",
   "id": "e782794d-acb6-4e33-a7b7-58a4e358096b",
   "metadata": {},
   "source": [
    "### Keep "
   ]
  },
  {
   "cell_type": "code",
   "execution_count": null,
   "id": "dca1aebf-7f40-4157-91f1-af4aff76602a",
   "metadata": {},
   "outputs": [],
   "source": []
  }
 ],
 "metadata": {
  "kernelspec": {
   "display_name": "Python 3 (ipykernel)",
   "language": "python",
   "name": "python3"
  },
  "language_info": {
   "codemirror_mode": {
    "name": "ipython",
    "version": 3
   },
   "file_extension": ".py",
   "mimetype": "text/x-python",
   "name": "python",
   "nbconvert_exporter": "python",
   "pygments_lexer": "ipython3",
   "version": "3.12.7"
  }
 },
 "nbformat": 4,
 "nbformat_minor": 5
}
